{
 "cells": [
  {
   "cell_type": "code",
   "execution_count": 10,
   "metadata": {
    "collapsed": true
   },
   "outputs": [
    {
     "name": "stdout",
     "output_type": "stream",
     "text": [
      "9874\n",
      "9874\n"
     ]
    }
   ],
   "source": [
    "nnnn = {}\n",
    "with open('real_results/PAKDD_neighbors.txt', 'r') as file:\n",
    "    cnt = 0\n",
    "    lines = file.readlines()\n",
    "    for i,l in enumerate(lines):\n",
    "        cnt += 1\n",
    "        n = []\n",
    "        arr = l.split(\" \")\n",
    "        for item in arr:\n",
    "\n",
    "            try:\n",
    "                n.append(int(item))\n",
    "\n",
    "            except:\n",
    "                try:\n",
    "                    n.append(int(item[1:]))\n",
    "\n",
    "                except:\n",
    "                    try:\n",
    "                        n.append(int(item[:-2]))\n",
    "\n",
    "                    except:\n",
    "                        None\n",
    "        if len(n) != 6:\n",
    "            print(f\"line:{i} cnt:{len(n)}\")\n",
    "        nnnn[n[0]] = n[1:]\n",
    "    print(len(nnnn))\n",
    "    print(cnt)\n",
    "\n",
    "\n"
   ]
  },
  {
   "cell_type": "code",
   "execution_count": 2,
   "outputs": [],
   "source": [
    "import pandas as pd\n",
    "import numpy as np"
   ],
   "metadata": {
    "collapsed": false,
    "pycharm": {
     "name": "#%%\n"
    }
   }
  },
  {
   "cell_type": "code",
   "execution_count": 11,
   "outputs": [
    {
     "data": {
      "text/plain": "       0  1  2   3   4  5   6   7   8  9   ...  18 19 20 21 22      23  24  \\\n0      22  F  O  44   0  N  31  12   0  P  ...   Y  N  0  N  N   300.0   0   \n1      15  F  S  18   0  Y  31  20   0  P  ...   Y  N  0  N  N   300.0   0   \n2      24  F  C  22   0  Y  31   8   0  P  ...   Y  N  0  N  N   229.0   0   \n3      12  F  C  47   0  N  31  25   0  P  ...   Y  N  0  N  N   304.0   0   \n4      16  F  S  28   0  Y  31  25   0  O  ...   Y  N  0  N  N   250.0   0   \n...    .. .. ..  ..  .. ..  ..  ..  .. ..  ...  .. .. .. .. ..     ...  ..   \n49995  19  M  S  21   0  Y  31  12   0  P  ...   Y  N  0  N  N   234.0   0   \n49996  22  F  C  40   0  Y  31   1   0  P  ...   Y  N  0  N  N  1500.0   0   \n49997  23  F  S  23   0  Y  31  28   0  P  ...   Y  N  0  N  N   240.0   0   \n49998   9  F  C  38   0  Y   5  28   0  P  ...   Y  N  0  N  N   616.0   0   \n49999  22  M  S  29   0  Y  31  23   0  P  ...   Y  N  0  N  N   341.0   0   \n\n       25 26 27  \n0       0  N  0  \n1       0  N  0  \n2       0  N  0  \n3       0  N  0  \n4       0  N  0  \n...    .. .. ..  \n49995   0  N  0  \n49996   0  N  0  \n49997   0  N  1  \n49998   0  N  0  \n49999   0  N  0  \n\n[50000 rows x 28 columns]",
      "text/html": "<div>\n<style scoped>\n    .dataframe tbody tr th:only-of-type {\n        vertical-align: middle;\n    }\n\n    .dataframe tbody tr th {\n        vertical-align: top;\n    }\n\n    .dataframe thead th {\n        text-align: right;\n    }\n</style>\n<table border=\"1\" class=\"dataframe\">\n  <thead>\n    <tr style=\"text-align: right;\">\n      <th></th>\n      <th>0</th>\n      <th>1</th>\n      <th>2</th>\n      <th>3</th>\n      <th>4</th>\n      <th>5</th>\n      <th>6</th>\n      <th>7</th>\n      <th>8</th>\n      <th>9</th>\n      <th>...</th>\n      <th>18</th>\n      <th>19</th>\n      <th>20</th>\n      <th>21</th>\n      <th>22</th>\n      <th>23</th>\n      <th>24</th>\n      <th>25</th>\n      <th>26</th>\n      <th>27</th>\n    </tr>\n  </thead>\n  <tbody>\n    <tr>\n      <th>0</th>\n      <td>22</td>\n      <td>F</td>\n      <td>O</td>\n      <td>44</td>\n      <td>0</td>\n      <td>N</td>\n      <td>31</td>\n      <td>12</td>\n      <td>0</td>\n      <td>P</td>\n      <td>...</td>\n      <td>Y</td>\n      <td>N</td>\n      <td>0</td>\n      <td>N</td>\n      <td>N</td>\n      <td>300.0</td>\n      <td>0</td>\n      <td>0</td>\n      <td>N</td>\n      <td>0</td>\n    </tr>\n    <tr>\n      <th>1</th>\n      <td>15</td>\n      <td>F</td>\n      <td>S</td>\n      <td>18</td>\n      <td>0</td>\n      <td>Y</td>\n      <td>31</td>\n      <td>20</td>\n      <td>0</td>\n      <td>P</td>\n      <td>...</td>\n      <td>Y</td>\n      <td>N</td>\n      <td>0</td>\n      <td>N</td>\n      <td>N</td>\n      <td>300.0</td>\n      <td>0</td>\n      <td>0</td>\n      <td>N</td>\n      <td>0</td>\n    </tr>\n    <tr>\n      <th>2</th>\n      <td>24</td>\n      <td>F</td>\n      <td>C</td>\n      <td>22</td>\n      <td>0</td>\n      <td>Y</td>\n      <td>31</td>\n      <td>8</td>\n      <td>0</td>\n      <td>P</td>\n      <td>...</td>\n      <td>Y</td>\n      <td>N</td>\n      <td>0</td>\n      <td>N</td>\n      <td>N</td>\n      <td>229.0</td>\n      <td>0</td>\n      <td>0</td>\n      <td>N</td>\n      <td>0</td>\n    </tr>\n    <tr>\n      <th>3</th>\n      <td>12</td>\n      <td>F</td>\n      <td>C</td>\n      <td>47</td>\n      <td>0</td>\n      <td>N</td>\n      <td>31</td>\n      <td>25</td>\n      <td>0</td>\n      <td>P</td>\n      <td>...</td>\n      <td>Y</td>\n      <td>N</td>\n      <td>0</td>\n      <td>N</td>\n      <td>N</td>\n      <td>304.0</td>\n      <td>0</td>\n      <td>0</td>\n      <td>N</td>\n      <td>0</td>\n    </tr>\n    <tr>\n      <th>4</th>\n      <td>16</td>\n      <td>F</td>\n      <td>S</td>\n      <td>28</td>\n      <td>0</td>\n      <td>Y</td>\n      <td>31</td>\n      <td>25</td>\n      <td>0</td>\n      <td>O</td>\n      <td>...</td>\n      <td>Y</td>\n      <td>N</td>\n      <td>0</td>\n      <td>N</td>\n      <td>N</td>\n      <td>250.0</td>\n      <td>0</td>\n      <td>0</td>\n      <td>N</td>\n      <td>0</td>\n    </tr>\n    <tr>\n      <th>...</th>\n      <td>...</td>\n      <td>...</td>\n      <td>...</td>\n      <td>...</td>\n      <td>...</td>\n      <td>...</td>\n      <td>...</td>\n      <td>...</td>\n      <td>...</td>\n      <td>...</td>\n      <td>...</td>\n      <td>...</td>\n      <td>...</td>\n      <td>...</td>\n      <td>...</td>\n      <td>...</td>\n      <td>...</td>\n      <td>...</td>\n      <td>...</td>\n      <td>...</td>\n      <td>...</td>\n    </tr>\n    <tr>\n      <th>49995</th>\n      <td>19</td>\n      <td>M</td>\n      <td>S</td>\n      <td>21</td>\n      <td>0</td>\n      <td>Y</td>\n      <td>31</td>\n      <td>12</td>\n      <td>0</td>\n      <td>P</td>\n      <td>...</td>\n      <td>Y</td>\n      <td>N</td>\n      <td>0</td>\n      <td>N</td>\n      <td>N</td>\n      <td>234.0</td>\n      <td>0</td>\n      <td>0</td>\n      <td>N</td>\n      <td>0</td>\n    </tr>\n    <tr>\n      <th>49996</th>\n      <td>22</td>\n      <td>F</td>\n      <td>C</td>\n      <td>40</td>\n      <td>0</td>\n      <td>Y</td>\n      <td>31</td>\n      <td>1</td>\n      <td>0</td>\n      <td>P</td>\n      <td>...</td>\n      <td>Y</td>\n      <td>N</td>\n      <td>0</td>\n      <td>N</td>\n      <td>N</td>\n      <td>1500.0</td>\n      <td>0</td>\n      <td>0</td>\n      <td>N</td>\n      <td>0</td>\n    </tr>\n    <tr>\n      <th>49997</th>\n      <td>23</td>\n      <td>F</td>\n      <td>S</td>\n      <td>23</td>\n      <td>0</td>\n      <td>Y</td>\n      <td>31</td>\n      <td>28</td>\n      <td>0</td>\n      <td>P</td>\n      <td>...</td>\n      <td>Y</td>\n      <td>N</td>\n      <td>0</td>\n      <td>N</td>\n      <td>N</td>\n      <td>240.0</td>\n      <td>0</td>\n      <td>0</td>\n      <td>N</td>\n      <td>1</td>\n    </tr>\n    <tr>\n      <th>49998</th>\n      <td>9</td>\n      <td>F</td>\n      <td>C</td>\n      <td>38</td>\n      <td>0</td>\n      <td>Y</td>\n      <td>5</td>\n      <td>28</td>\n      <td>0</td>\n      <td>P</td>\n      <td>...</td>\n      <td>Y</td>\n      <td>N</td>\n      <td>0</td>\n      <td>N</td>\n      <td>N</td>\n      <td>616.0</td>\n      <td>0</td>\n      <td>0</td>\n      <td>N</td>\n      <td>0</td>\n    </tr>\n    <tr>\n      <th>49999</th>\n      <td>22</td>\n      <td>M</td>\n      <td>S</td>\n      <td>29</td>\n      <td>0</td>\n      <td>Y</td>\n      <td>31</td>\n      <td>23</td>\n      <td>0</td>\n      <td>P</td>\n      <td>...</td>\n      <td>Y</td>\n      <td>N</td>\n      <td>0</td>\n      <td>N</td>\n      <td>N</td>\n      <td>341.0</td>\n      <td>0</td>\n      <td>0</td>\n      <td>N</td>\n      <td>0</td>\n    </tr>\n  </tbody>\n</table>\n<p>50000 rows × 28 columns</p>\n</div>"
     },
     "execution_count": 11,
     "metadata": {},
     "output_type": "execute_result"
    }
   ],
   "source": [
    "df = pd.read_csv(\"dataset/PAKDD.csv\",header=None,index_col=False)\n",
    "df"
   ],
   "metadata": {
    "collapsed": false,
    "pycharm": {
     "name": "#%%\n"
    }
   }
  },
  {
   "cell_type": "code",
   "execution_count": 12,
   "outputs": [],
   "source": [
    "Y = df[27]\n",
    "majorityClass = np.bincount(Y).argmax()"
   ],
   "metadata": {
    "collapsed": false,
    "pycharm": {
     "name": "#%%\n"
    }
   }
  },
  {
   "cell_type": "code",
   "execution_count": 13,
   "outputs": [
    {
     "data": {
      "text/plain": "       0  1  2   3   4  5   6   7   8  9   ...  18 19 20 21 22      23  24  \\\n8       3  F  S  27   0  Y  31  20   0  A  ...   Y  N  0  N  N  1000.0   0   \n10     25  F  S  53   0  Y  31  18   0  P  ...   Y  N  0  N  N   738.0   0   \n19     24  M  S  20   0  Y  31  28   0  P  ...   Y  N  0  N  N   500.0   0   \n20      9  M  C  26   0  Y   5  18   0  C  ...   Y  N  0  N  N   490.0   0   \n21      1  M  C  17   0  N  50  12   0  A  ...   Y  N  0  N  N   426.0   0   \n...    .. .. ..  ..  .. ..  ..  ..  .. ..  ...  .. .. .. .. ..     ...  ..   \n49955  22  M  S  18   0  Y  31  20   0  P  ...   Y  N  0  N  N   400.0   0   \n49967  19  F  C  23   0  Y  31  20   0  A  ...   Y  N  0  N  N   600.0   0   \n49990  15  M  C  43   0  Y  31  28   0  P  ...   Y  N  0  N  N  3500.0   0   \n49993   1  M  C  29   0  Y  31  12   0  A  ...   Y  N  0  N  N   796.0   0   \n49997  23  F  S  23   0  Y  31  28   0  P  ...   Y  N  0  N  N   240.0   0   \n\n       25 26 27  \n8       0  N  1  \n10      1  N  1  \n19      0  N  1  \n20      0  N  1  \n21      0  N  1  \n...    .. .. ..  \n49955   1  N  1  \n49967   0  N  1  \n49990   1  N  1  \n49993   1  N  1  \n49997   0  N  1  \n\n[9874 rows x 28 columns]",
      "text/html": "<div>\n<style scoped>\n    .dataframe tbody tr th:only-of-type {\n        vertical-align: middle;\n    }\n\n    .dataframe tbody tr th {\n        vertical-align: top;\n    }\n\n    .dataframe thead th {\n        text-align: right;\n    }\n</style>\n<table border=\"1\" class=\"dataframe\">\n  <thead>\n    <tr style=\"text-align: right;\">\n      <th></th>\n      <th>0</th>\n      <th>1</th>\n      <th>2</th>\n      <th>3</th>\n      <th>4</th>\n      <th>5</th>\n      <th>6</th>\n      <th>7</th>\n      <th>8</th>\n      <th>9</th>\n      <th>...</th>\n      <th>18</th>\n      <th>19</th>\n      <th>20</th>\n      <th>21</th>\n      <th>22</th>\n      <th>23</th>\n      <th>24</th>\n      <th>25</th>\n      <th>26</th>\n      <th>27</th>\n    </tr>\n  </thead>\n  <tbody>\n    <tr>\n      <th>8</th>\n      <td>3</td>\n      <td>F</td>\n      <td>S</td>\n      <td>27</td>\n      <td>0</td>\n      <td>Y</td>\n      <td>31</td>\n      <td>20</td>\n      <td>0</td>\n      <td>A</td>\n      <td>...</td>\n      <td>Y</td>\n      <td>N</td>\n      <td>0</td>\n      <td>N</td>\n      <td>N</td>\n      <td>1000.0</td>\n      <td>0</td>\n      <td>0</td>\n      <td>N</td>\n      <td>1</td>\n    </tr>\n    <tr>\n      <th>10</th>\n      <td>25</td>\n      <td>F</td>\n      <td>S</td>\n      <td>53</td>\n      <td>0</td>\n      <td>Y</td>\n      <td>31</td>\n      <td>18</td>\n      <td>0</td>\n      <td>P</td>\n      <td>...</td>\n      <td>Y</td>\n      <td>N</td>\n      <td>0</td>\n      <td>N</td>\n      <td>N</td>\n      <td>738.0</td>\n      <td>0</td>\n      <td>1</td>\n      <td>N</td>\n      <td>1</td>\n    </tr>\n    <tr>\n      <th>19</th>\n      <td>24</td>\n      <td>M</td>\n      <td>S</td>\n      <td>20</td>\n      <td>0</td>\n      <td>Y</td>\n      <td>31</td>\n      <td>28</td>\n      <td>0</td>\n      <td>P</td>\n      <td>...</td>\n      <td>Y</td>\n      <td>N</td>\n      <td>0</td>\n      <td>N</td>\n      <td>N</td>\n      <td>500.0</td>\n      <td>0</td>\n      <td>0</td>\n      <td>N</td>\n      <td>1</td>\n    </tr>\n    <tr>\n      <th>20</th>\n      <td>9</td>\n      <td>M</td>\n      <td>C</td>\n      <td>26</td>\n      <td>0</td>\n      <td>Y</td>\n      <td>5</td>\n      <td>18</td>\n      <td>0</td>\n      <td>C</td>\n      <td>...</td>\n      <td>Y</td>\n      <td>N</td>\n      <td>0</td>\n      <td>N</td>\n      <td>N</td>\n      <td>490.0</td>\n      <td>0</td>\n      <td>0</td>\n      <td>N</td>\n      <td>1</td>\n    </tr>\n    <tr>\n      <th>21</th>\n      <td>1</td>\n      <td>M</td>\n      <td>C</td>\n      <td>17</td>\n      <td>0</td>\n      <td>N</td>\n      <td>50</td>\n      <td>12</td>\n      <td>0</td>\n      <td>A</td>\n      <td>...</td>\n      <td>Y</td>\n      <td>N</td>\n      <td>0</td>\n      <td>N</td>\n      <td>N</td>\n      <td>426.0</td>\n      <td>0</td>\n      <td>0</td>\n      <td>N</td>\n      <td>1</td>\n    </tr>\n    <tr>\n      <th>...</th>\n      <td>...</td>\n      <td>...</td>\n      <td>...</td>\n      <td>...</td>\n      <td>...</td>\n      <td>...</td>\n      <td>...</td>\n      <td>...</td>\n      <td>...</td>\n      <td>...</td>\n      <td>...</td>\n      <td>...</td>\n      <td>...</td>\n      <td>...</td>\n      <td>...</td>\n      <td>...</td>\n      <td>...</td>\n      <td>...</td>\n      <td>...</td>\n      <td>...</td>\n      <td>...</td>\n    </tr>\n    <tr>\n      <th>49955</th>\n      <td>22</td>\n      <td>M</td>\n      <td>S</td>\n      <td>18</td>\n      <td>0</td>\n      <td>Y</td>\n      <td>31</td>\n      <td>20</td>\n      <td>0</td>\n      <td>P</td>\n      <td>...</td>\n      <td>Y</td>\n      <td>N</td>\n      <td>0</td>\n      <td>N</td>\n      <td>N</td>\n      <td>400.0</td>\n      <td>0</td>\n      <td>1</td>\n      <td>N</td>\n      <td>1</td>\n    </tr>\n    <tr>\n      <th>49967</th>\n      <td>19</td>\n      <td>F</td>\n      <td>C</td>\n      <td>23</td>\n      <td>0</td>\n      <td>Y</td>\n      <td>31</td>\n      <td>20</td>\n      <td>0</td>\n      <td>A</td>\n      <td>...</td>\n      <td>Y</td>\n      <td>N</td>\n      <td>0</td>\n      <td>N</td>\n      <td>N</td>\n      <td>600.0</td>\n      <td>0</td>\n      <td>0</td>\n      <td>N</td>\n      <td>1</td>\n    </tr>\n    <tr>\n      <th>49990</th>\n      <td>15</td>\n      <td>M</td>\n      <td>C</td>\n      <td>43</td>\n      <td>0</td>\n      <td>Y</td>\n      <td>31</td>\n      <td>28</td>\n      <td>0</td>\n      <td>P</td>\n      <td>...</td>\n      <td>Y</td>\n      <td>N</td>\n      <td>0</td>\n      <td>N</td>\n      <td>N</td>\n      <td>3500.0</td>\n      <td>0</td>\n      <td>1</td>\n      <td>N</td>\n      <td>1</td>\n    </tr>\n    <tr>\n      <th>49993</th>\n      <td>1</td>\n      <td>M</td>\n      <td>C</td>\n      <td>29</td>\n      <td>0</td>\n      <td>Y</td>\n      <td>31</td>\n      <td>12</td>\n      <td>0</td>\n      <td>A</td>\n      <td>...</td>\n      <td>Y</td>\n      <td>N</td>\n      <td>0</td>\n      <td>N</td>\n      <td>N</td>\n      <td>796.0</td>\n      <td>0</td>\n      <td>1</td>\n      <td>N</td>\n      <td>1</td>\n    </tr>\n    <tr>\n      <th>49997</th>\n      <td>23</td>\n      <td>F</td>\n      <td>S</td>\n      <td>23</td>\n      <td>0</td>\n      <td>Y</td>\n      <td>31</td>\n      <td>28</td>\n      <td>0</td>\n      <td>P</td>\n      <td>...</td>\n      <td>Y</td>\n      <td>N</td>\n      <td>0</td>\n      <td>N</td>\n      <td>N</td>\n      <td>240.0</td>\n      <td>0</td>\n      <td>0</td>\n      <td>N</td>\n      <td>1</td>\n    </tr>\n  </tbody>\n</table>\n<p>9874 rows × 28 columns</p>\n</div>"
     },
     "execution_count": 13,
     "metadata": {},
     "output_type": "execute_result"
    }
   ],
   "source": [
    "df[Y != majorityClass]"
   ],
   "metadata": {
    "collapsed": false,
    "pycharm": {
     "name": "#%%\n"
    }
   }
  },
  {
   "cell_type": "code",
   "execution_count": 14,
   "outputs": [
    {
     "data": {
      "text/plain": "        i class    category\n0       8     1     outlier\n0      10     1     outlier\n0      19     1     outlier\n0      20     1     outlier\n0      21     1  borderline\n..    ...   ...         ...\n0   49955     1        rare\n0   49967     1        rare\n0   49990     1        rare\n0   49993     1     outlier\n0   49997     1  borderline\n\n[9874 rows x 3 columns]",
      "text/html": "<div>\n<style scoped>\n    .dataframe tbody tr th:only-of-type {\n        vertical-align: middle;\n    }\n\n    .dataframe tbody tr th {\n        vertical-align: top;\n    }\n\n    .dataframe thead th {\n        text-align: right;\n    }\n</style>\n<table border=\"1\" class=\"dataframe\">\n  <thead>\n    <tr style=\"text-align: right;\">\n      <th></th>\n      <th>i</th>\n      <th>class</th>\n      <th>category</th>\n    </tr>\n  </thead>\n  <tbody>\n    <tr>\n      <th>0</th>\n      <td>8</td>\n      <td>1</td>\n      <td>outlier</td>\n    </tr>\n    <tr>\n      <th>0</th>\n      <td>10</td>\n      <td>1</td>\n      <td>outlier</td>\n    </tr>\n    <tr>\n      <th>0</th>\n      <td>19</td>\n      <td>1</td>\n      <td>outlier</td>\n    </tr>\n    <tr>\n      <th>0</th>\n      <td>20</td>\n      <td>1</td>\n      <td>outlier</td>\n    </tr>\n    <tr>\n      <th>0</th>\n      <td>21</td>\n      <td>1</td>\n      <td>borderline</td>\n    </tr>\n    <tr>\n      <th>...</th>\n      <td>...</td>\n      <td>...</td>\n      <td>...</td>\n    </tr>\n    <tr>\n      <th>0</th>\n      <td>49955</td>\n      <td>1</td>\n      <td>rare</td>\n    </tr>\n    <tr>\n      <th>0</th>\n      <td>49967</td>\n      <td>1</td>\n      <td>rare</td>\n    </tr>\n    <tr>\n      <th>0</th>\n      <td>49990</td>\n      <td>1</td>\n      <td>rare</td>\n    </tr>\n    <tr>\n      <th>0</th>\n      <td>49993</td>\n      <td>1</td>\n      <td>outlier</td>\n    </tr>\n    <tr>\n      <th>0</th>\n      <td>49997</td>\n      <td>1</td>\n      <td>borderline</td>\n    </tr>\n  </tbody>\n</table>\n<p>9874 rows × 3 columns</p>\n</div>"
     },
     "execution_count": 14,
     "metadata": {},
     "output_type": "execute_result"
    }
   ],
   "source": [
    "results = pd.DataFrame(columns = [\"i\",\"class\", \"category\"])\n",
    "for item, nearests in nnnn.items():\n",
    "    cl = Y[item]\n",
    "    same = 0\n",
    "    other = 0\n",
    "    category = \"safe\"\n",
    "    for nn in nearests:\n",
    "        if Y[nn] == cl:\n",
    "            same += 1\n",
    "        else:\n",
    "            other += 1\n",
    "    if same == 1:\n",
    "        category = \"outlier\"\n",
    "    elif same <= 2:\n",
    "        category = \"rare\"\n",
    "    elif same <= 4:\n",
    "        category = \"borderline\"\n",
    "\n",
    "    df2 = pd.DataFrame([[item,cl,category]],columns = [\"i\",\"class\", \"category\"])\n",
    "\n",
    "    results = results.append(df2)\n",
    "results"
   ],
   "metadata": {
    "collapsed": false,
    "pycharm": {
     "name": "#%%\n"
    }
   }
  },
  {
   "cell_type": "code",
   "execution_count": 15,
   "outputs": [],
   "source": [
    "def map_p(i):\n",
    "    divider = zeros\n",
    "    if categories_counts[\"class\"][i] != majorityClass:\n",
    "        divider = ones\n",
    "    return int(categories_counts[\"i\"][i] * 10000/divider) / 100"
   ],
   "metadata": {
    "collapsed": false,
    "pycharm": {
     "name": "#%%\n"
    }
   }
  },
  {
   "cell_type": "code",
   "execution_count": 16,
   "outputs": [
    {
     "data": {
      "text/plain": "   class    category     i       p\n0      0  borderline     4  100.00\n1      1  borderline  1425   14.43\n2      1     outlier  3325   33.68\n3      1        rare  5047   51.13\n4      1        safe    73    0.73",
      "text/html": "<div>\n<style scoped>\n    .dataframe tbody tr th:only-of-type {\n        vertical-align: middle;\n    }\n\n    .dataframe tbody tr th {\n        vertical-align: top;\n    }\n\n    .dataframe thead th {\n        text-align: right;\n    }\n</style>\n<table border=\"1\" class=\"dataframe\">\n  <thead>\n    <tr style=\"text-align: right;\">\n      <th></th>\n      <th>class</th>\n      <th>category</th>\n      <th>i</th>\n      <th>p</th>\n    </tr>\n  </thead>\n  <tbody>\n    <tr>\n      <th>0</th>\n      <td>0</td>\n      <td>borderline</td>\n      <td>4</td>\n      <td>100.00</td>\n    </tr>\n    <tr>\n      <th>1</th>\n      <td>1</td>\n      <td>borderline</td>\n      <td>1425</td>\n      <td>14.43</td>\n    </tr>\n    <tr>\n      <th>2</th>\n      <td>1</td>\n      <td>outlier</td>\n      <td>3325</td>\n      <td>33.68</td>\n    </tr>\n    <tr>\n      <th>3</th>\n      <td>1</td>\n      <td>rare</td>\n      <td>5047</td>\n      <td>51.13</td>\n    </tr>\n    <tr>\n      <th>4</th>\n      <td>1</td>\n      <td>safe</td>\n      <td>73</td>\n      <td>0.73</td>\n    </tr>\n  </tbody>\n</table>\n</div>"
     },
     "execution_count": 16,
     "metadata": {},
     "output_type": "execute_result"
    }
   ],
   "source": [
    "zeros = results[results[\"class\"]==majorityClass].count()[0]\n",
    "ones = results[results[\"class\"]!= majorityClass].count()[0]\n",
    "categories_counts = results.groupby([\"class\",\"category\"]).count()\n",
    "categories_counts = categories_counts.reset_index()\n",
    "categories_counts[\"p\"] = pd.Series(categories_counts.index).apply(map_p)\n",
    "categories_counts"
   ],
   "metadata": {
    "collapsed": false,
    "pycharm": {
     "name": "#%%\n"
    }
   }
  },
  {
   "cell_type": "code",
   "execution_count": 17,
   "outputs": [],
   "source": [
    "categories_counts.to_csv(\"PAKDD_results.csv\", header=False)"
   ],
   "metadata": {
    "collapsed": false,
    "pycharm": {
     "name": "#%%\n"
    }
   }
  }
 ],
 "metadata": {
  "kernelspec": {
   "display_name": "Python 3",
   "language": "python",
   "name": "python3"
  },
  "language_info": {
   "codemirror_mode": {
    "name": "ipython",
    "version": 2
   },
   "file_extension": ".py",
   "mimetype": "text/x-python",
   "name": "python",
   "nbconvert_exporter": "python",
   "pygments_lexer": "ipython2",
   "version": "2.7.6"
  }
 },
 "nbformat": 4,
 "nbformat_minor": 0
}