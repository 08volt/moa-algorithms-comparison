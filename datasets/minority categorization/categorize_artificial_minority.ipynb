{
 "cells": [
  {
   "cell_type": "code",
   "execution_count": 1,
   "metadata": {
    "id": "3KsCgvOyb5BI"
   },
   "outputs": [],
   "source": [
    "import numpy as np\n",
    "import pandas as pd\n",
    "from sklearn import neighbors as nn"
   ]
  },
  {
   "cell_type": "code",
   "execution_count": 2,
   "metadata": {
    "id": "m5soTxmYb5BT"
   },
   "outputs": [],
   "source": [
    "def read_df(name,i,k,separators):\n",
    "    df = pd.read_csv(f\"{name}{str(i)},{str(10 - i)}.csv\",header=None)\n",
    "    X = []\n",
    "    Y = []\n",
    "    for i in range(1,len(separators)):\n",
    "        X.append(df.iloc[separators[i-1]:separators[i],:-1])\n",
    "        Y.append(df.iloc[separators[i-1]:separators[i],-1])\n",
    "    X.append(df.iloc[separators[i]:,:-1])\n",
    "    Y.append(df.iloc[separators[i]:,-1])\n",
    "    print(len(X))\n",
    "    return X,Y\n",
    "\n",
    "\n",
    "\n"
   ]
  },
  {
   "cell_type": "code",
   "execution_count": 3,
   "metadata": {
    "id": "h24CKz2Mb5Bz"
   },
   "outputs": [],
   "source": [
    "def map_p(i, zero, one, categories_count):\n",
    "    divider = zero\n",
    "    if categories_count[\"class\"][i] == 1:\n",
    "        divider = one\n",
    "    return int(categories_count[\"i\"][i] * 10000/divider) / 100\n"
   ]
  },
  {
   "cell_type": "code",
   "execution_count": 5,
   "metadata": {
    "colab": {
     "base_uri": "https://localhost:8080/",
     "height": 260
    },
    "id": "RWvEvEtzfXhJ",
    "outputId": "1a7f9e0c-d31a-465a-88e2-8df371ece199",
    "pycharm": {
     "name": "#%%\n"
    }
   },
   "outputs": [
    {
     "name": "stdout",
     "output_type": "stream",
     "text": [
      "3\n",
      "results_P(y)cd/seaG_2,8results.csv\n"
     ]
    }
   ],
   "source": [
    "\n",
    "zrange = [2]\n",
    "names = [\"P(y)cd/seaG_\"]\n",
    "separators = [0,45000,55000]\n",
    "\n",
    "for z in zrange:\n",
    "    for name in names:\n",
    "        df_cat = []\n",
    "        X,Y = read_df(name,z,5,separators)\n",
    "        for x,y in zip(X,Y):\n",
    "            Knn = nn.KNeighborsClassifier()\n",
    "            Knn.fit(x,y)\n",
    "            category = [\"safe\",\"borderline\",\"outlier\"]\n",
    "            nearest = Knn.kneighbors(n_neighbors= 5, return_distance= False)\n",
    "            results = pd.DataFrame(columns = [\"i\",\"class\", \"category\"])\n",
    "            for i,n in enumerate(nearest):\n",
    "                cl = y[y.index[i]]\n",
    "                same = 0\n",
    "                other = 0\n",
    "                category = \"safe\"\n",
    "                for nnn in n:\n",
    "                    if y[y.index[nnn]] == cl:\n",
    "                        same += 1\n",
    "                    else:\n",
    "                        other += 1\n",
    "                if same == 0:\n",
    "                    category = \"outlier\"\n",
    "                elif same == 1:\n",
    "                    category = \"rare\"\n",
    "                elif same <= 3:\n",
    "                    category = \"borderline\"\n",
    "                df2 = pd.DataFrame([[i,cl,category]],columns = [\"i\",\"class\", \"category\"])\n",
    "                results = results.append(df2)\n",
    "            res = results\n",
    "            zeros = res[res[\"class\"].unique()[0]].count()[\"i\"]\n",
    "            ones = res[res[\"class\"].unique()[1]].count()[\"i\"]\n",
    "            if zeros == 0:\n",
    "                zeros = 1\n",
    "            if ones == 0:\n",
    "                ones = 1\n",
    "            categories_counts = res.groupby([\"class\",\"category\"]).count()\n",
    "            categories_counts = categories_counts.reset_index()\n",
    "            categories_counts[\"p\"] = pd.Series(categories_counts.index).apply(map_p, args=(zeros,ones,categories_counts))\n",
    "            df_cat.append(categories_counts)\n",
    "        final = pd.DataFrame(columns = [\"class\",\"category\",\"i\", \"p\"])\n",
    "        for d in df_cat:\n",
    "            final = pd.concat([final,d],ignore_index=True)\n",
    "        final.to_csv(f\"{name}{str(z)},{str(10 - z)}results.csv\")\n",
    "        print(f\"results_{name}{str(z)},{str(10 - z)}results.csv\")\n",
    "\n",
    "\n",
    "\n",
    "\n"
   ]
  }
 ],
 "metadata": {
  "colab": {
   "collapsed_sections": [],
   "name": "categorize_artificial_minority.ipynb",
   "provenance": []
  },
  "kernelspec": {
   "display_name": "Python 3",
   "language": "python",
   "name": "python3"
  },
  "language_info": {
   "codemirror_mode": {
    "name": "ipython",
    "version": 3
   },
   "file_extension": ".py",
   "mimetype": "text/x-python",
   "name": "python",
   "nbconvert_exporter": "python",
   "pygments_lexer": "ipython3",
   "version": "3.7.6"
  }
 },
 "nbformat": 4,
 "nbformat_minor": 1
}