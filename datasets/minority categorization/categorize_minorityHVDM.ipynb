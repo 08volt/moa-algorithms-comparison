{
 "cells": [
  {
   "cell_type": "code",
   "execution_count": 1,
   "metadata": {
    "id": "VsRq9iHL1MEs"
   },
   "outputs": [],
   "source": [
    "import numpy as np\n",
    "import pandas as pd\n",
    "from sklearn import neighbors as nn"
   ]
  },
  {
   "cell_type": "code",
   "execution_count": 2,
   "metadata": {
    "pycharm": {
     "name": "#%%\n"
    }
   },
   "outputs": [],
   "source": [
    "from HVDM import HVDM"
   ]
  },
  {
   "cell_type": "code",
   "execution_count": 22,
   "metadata": {
    "id": "vGH6L_it1ME7"
   },
   "outputs": [
    {
     "data": {
      "text/plain": "        0       1            2       3      4      5     6        7      8   \\\n0      AFG    Asia  Afghanistan     0.0    0.0    0.0   0.0    0.000  0.000   \n1      AFG    Asia  Afghanistan     0.0    0.0    0.0   0.0    0.000  0.000   \n2      AFG    Asia  Afghanistan     0.0    0.0    0.0   0.0    0.000  0.000   \n3      AFG    Asia  Afghanistan     0.0    0.0    0.0   0.0    0.000  0.000   \n4      AFG    Asia  Afghanistan     0.0    0.0    0.0   0.0    0.000  0.000   \n...    ...     ...          ...     ...    ...    ...   ...      ...    ...   \n35843  ZWE  Africa     Zimbabwe  4395.0   56.0   97.0  13.0  295.702  3.768   \n35844  ZWE  Africa     Zimbabwe  4451.0   56.0  102.0   5.0  299.470  3.768   \n35845  ZWE  Africa     Zimbabwe  4575.0  124.0  102.0   0.0  307.813  8.343   \n35846  ZWE  Africa     Zimbabwe  4649.0   74.0  104.0   2.0  312.792  4.979   \n35847  ZWE  Africa     Zimbabwe  4748.0   99.0  104.0   0.0  319.453  6.661   \n\n          9   ...      31   32     33  34  35    36  37  38  39  40  \n0      0.000  ...  37.746  0.5  64.83  31  12  2019   2   1   0   0  \n1      0.000  ...  37.746  0.5  64.83   1   1  2020   3   1   1   0  \n2      0.000  ...  37.746  0.5  64.83   2   1  2020   4   1   0   0  \n3      0.000  ...  37.746  0.5  64.83   3   1  2020   5   1   0   0  \n4      0.000  ...  37.746  0.5  64.83   4   1  2020   6   1   0   0  \n...      ...  ...     ...  ...    ...  ..  ..   ...  ..  ..  ..  ..  \n35843  6.526  ...  36.791  1.7  61.49   7   8  2020   5  32   0   0  \n35844  6.863  ...  36.791  1.7  61.49   8   8  2020   6  32   0   0  \n35845  6.863  ...  36.791  1.7  61.49   9   8  2020   7  32   0   1  \n35846  6.997  ...  36.791  1.7  61.49  10   8  2020   1  33   0   0  \n35847  6.997  ...  36.791  1.7  61.49  11   8  2020   2  33   0   1  \n\n[35848 rows x 41 columns]",
      "text/html": "<div>\n<style scoped>\n    .dataframe tbody tr th:only-of-type {\n        vertical-align: middle;\n    }\n\n    .dataframe tbody tr th {\n        vertical-align: top;\n    }\n\n    .dataframe thead th {\n        text-align: right;\n    }\n</style>\n<table border=\"1\" class=\"dataframe\">\n  <thead>\n    <tr style=\"text-align: right;\">\n      <th></th>\n      <th>0</th>\n      <th>1</th>\n      <th>2</th>\n      <th>3</th>\n      <th>4</th>\n      <th>5</th>\n      <th>6</th>\n      <th>7</th>\n      <th>8</th>\n      <th>9</th>\n      <th>...</th>\n      <th>31</th>\n      <th>32</th>\n      <th>33</th>\n      <th>34</th>\n      <th>35</th>\n      <th>36</th>\n      <th>37</th>\n      <th>38</th>\n      <th>39</th>\n      <th>40</th>\n    </tr>\n  </thead>\n  <tbody>\n    <tr>\n      <th>0</th>\n      <td>AFG</td>\n      <td>Asia</td>\n      <td>Afghanistan</td>\n      <td>0.0</td>\n      <td>0.0</td>\n      <td>0.0</td>\n      <td>0.0</td>\n      <td>0.000</td>\n      <td>0.000</td>\n      <td>0.000</td>\n      <td>...</td>\n      <td>37.746</td>\n      <td>0.5</td>\n      <td>64.83</td>\n      <td>31</td>\n      <td>12</td>\n      <td>2019</td>\n      <td>2</td>\n      <td>1</td>\n      <td>0</td>\n      <td>0</td>\n    </tr>\n    <tr>\n      <th>1</th>\n      <td>AFG</td>\n      <td>Asia</td>\n      <td>Afghanistan</td>\n      <td>0.0</td>\n      <td>0.0</td>\n      <td>0.0</td>\n      <td>0.0</td>\n      <td>0.000</td>\n      <td>0.000</td>\n      <td>0.000</td>\n      <td>...</td>\n      <td>37.746</td>\n      <td>0.5</td>\n      <td>64.83</td>\n      <td>1</td>\n      <td>1</td>\n      <td>2020</td>\n      <td>3</td>\n      <td>1</td>\n      <td>1</td>\n      <td>0</td>\n    </tr>\n    <tr>\n      <th>2</th>\n      <td>AFG</td>\n      <td>Asia</td>\n      <td>Afghanistan</td>\n      <td>0.0</td>\n      <td>0.0</td>\n      <td>0.0</td>\n      <td>0.0</td>\n      <td>0.000</td>\n      <td>0.000</td>\n      <td>0.000</td>\n      <td>...</td>\n      <td>37.746</td>\n      <td>0.5</td>\n      <td>64.83</td>\n      <td>2</td>\n      <td>1</td>\n      <td>2020</td>\n      <td>4</td>\n      <td>1</td>\n      <td>0</td>\n      <td>0</td>\n    </tr>\n    <tr>\n      <th>3</th>\n      <td>AFG</td>\n      <td>Asia</td>\n      <td>Afghanistan</td>\n      <td>0.0</td>\n      <td>0.0</td>\n      <td>0.0</td>\n      <td>0.0</td>\n      <td>0.000</td>\n      <td>0.000</td>\n      <td>0.000</td>\n      <td>...</td>\n      <td>37.746</td>\n      <td>0.5</td>\n      <td>64.83</td>\n      <td>3</td>\n      <td>1</td>\n      <td>2020</td>\n      <td>5</td>\n      <td>1</td>\n      <td>0</td>\n      <td>0</td>\n    </tr>\n    <tr>\n      <th>4</th>\n      <td>AFG</td>\n      <td>Asia</td>\n      <td>Afghanistan</td>\n      <td>0.0</td>\n      <td>0.0</td>\n      <td>0.0</td>\n      <td>0.0</td>\n      <td>0.000</td>\n      <td>0.000</td>\n      <td>0.000</td>\n      <td>...</td>\n      <td>37.746</td>\n      <td>0.5</td>\n      <td>64.83</td>\n      <td>4</td>\n      <td>1</td>\n      <td>2020</td>\n      <td>6</td>\n      <td>1</td>\n      <td>0</td>\n      <td>0</td>\n    </tr>\n    <tr>\n      <th>...</th>\n      <td>...</td>\n      <td>...</td>\n      <td>...</td>\n      <td>...</td>\n      <td>...</td>\n      <td>...</td>\n      <td>...</td>\n      <td>...</td>\n      <td>...</td>\n      <td>...</td>\n      <td>...</td>\n      <td>...</td>\n      <td>...</td>\n      <td>...</td>\n      <td>...</td>\n      <td>...</td>\n      <td>...</td>\n      <td>...</td>\n      <td>...</td>\n      <td>...</td>\n      <td>...</td>\n    </tr>\n    <tr>\n      <th>35843</th>\n      <td>ZWE</td>\n      <td>Africa</td>\n      <td>Zimbabwe</td>\n      <td>4395.0</td>\n      <td>56.0</td>\n      <td>97.0</td>\n      <td>13.0</td>\n      <td>295.702</td>\n      <td>3.768</td>\n      <td>6.526</td>\n      <td>...</td>\n      <td>36.791</td>\n      <td>1.7</td>\n      <td>61.49</td>\n      <td>7</td>\n      <td>8</td>\n      <td>2020</td>\n      <td>5</td>\n      <td>32</td>\n      <td>0</td>\n      <td>0</td>\n    </tr>\n    <tr>\n      <th>35844</th>\n      <td>ZWE</td>\n      <td>Africa</td>\n      <td>Zimbabwe</td>\n      <td>4451.0</td>\n      <td>56.0</td>\n      <td>102.0</td>\n      <td>5.0</td>\n      <td>299.470</td>\n      <td>3.768</td>\n      <td>6.863</td>\n      <td>...</td>\n      <td>36.791</td>\n      <td>1.7</td>\n      <td>61.49</td>\n      <td>8</td>\n      <td>8</td>\n      <td>2020</td>\n      <td>6</td>\n      <td>32</td>\n      <td>0</td>\n      <td>0</td>\n    </tr>\n    <tr>\n      <th>35845</th>\n      <td>ZWE</td>\n      <td>Africa</td>\n      <td>Zimbabwe</td>\n      <td>4575.0</td>\n      <td>124.0</td>\n      <td>102.0</td>\n      <td>0.0</td>\n      <td>307.813</td>\n      <td>8.343</td>\n      <td>6.863</td>\n      <td>...</td>\n      <td>36.791</td>\n      <td>1.7</td>\n      <td>61.49</td>\n      <td>9</td>\n      <td>8</td>\n      <td>2020</td>\n      <td>7</td>\n      <td>32</td>\n      <td>0</td>\n      <td>1</td>\n    </tr>\n    <tr>\n      <th>35846</th>\n      <td>ZWE</td>\n      <td>Africa</td>\n      <td>Zimbabwe</td>\n      <td>4649.0</td>\n      <td>74.0</td>\n      <td>104.0</td>\n      <td>2.0</td>\n      <td>312.792</td>\n      <td>4.979</td>\n      <td>6.997</td>\n      <td>...</td>\n      <td>36.791</td>\n      <td>1.7</td>\n      <td>61.49</td>\n      <td>10</td>\n      <td>8</td>\n      <td>2020</td>\n      <td>1</td>\n      <td>33</td>\n      <td>0</td>\n      <td>0</td>\n    </tr>\n    <tr>\n      <th>35847</th>\n      <td>ZWE</td>\n      <td>Africa</td>\n      <td>Zimbabwe</td>\n      <td>4748.0</td>\n      <td>99.0</td>\n      <td>104.0</td>\n      <td>0.0</td>\n      <td>319.453</td>\n      <td>6.661</td>\n      <td>6.997</td>\n      <td>...</td>\n      <td>36.791</td>\n      <td>1.7</td>\n      <td>61.49</td>\n      <td>11</td>\n      <td>8</td>\n      <td>2020</td>\n      <td>2</td>\n      <td>33</td>\n      <td>0</td>\n      <td>1</td>\n    </tr>\n  </tbody>\n</table>\n<p>35848 rows × 41 columns</p>\n</div>"
     },
     "execution_count": 22,
     "metadata": {},
     "output_type": "execute_result"
    }
   ],
   "source": [
    "df = pd.read_csv(\"covid19.csv\",header=None,index_col=False)\n",
    "df"
   ]
  },
  {
   "cell_type": "code",
   "execution_count": 23,
   "metadata": {
    "pycharm": {
     "name": "#%%\n"
    }
   },
   "outputs": [
    {
     "data": {
      "text/plain": "0      object\n1      object\n2      object\n3     float64\n4     float64\n5     float64\n6     float64\n7     float64\n8     float64\n9     float64\n10    float64\n11    float64\n12    float64\n13    float64\n14    float64\n15    float64\n16    float64\n17    float64\n18    float64\n19    float64\n20    float64\n21    float64\n22    float64\n23    float64\n24    float64\n25    float64\n26    float64\n27    float64\n28    float64\n29    float64\n30    float64\n31    float64\n32    float64\n33    float64\n34      int64\n35      int64\n36      int64\n37      int64\n38      int64\n39      int64\n40      int64\ndtype: object"
     },
     "execution_count": 23,
     "metadata": {},
     "output_type": "execute_result"
    }
   ],
   "source": [
    "df.dtypes"
   ]
  },
  {
   "cell_type": "code",
   "execution_count": 24,
   "outputs": [
    {
     "data": {
      "text/plain": "0"
     },
     "execution_count": 24,
     "metadata": {},
     "output_type": "execute_result"
    }
   ],
   "source": [
    "list(df[0].unique()).index(\"AFG\")"
   ],
   "metadata": {
    "collapsed": false,
    "pycharm": {
     "name": "#%%\n"
    }
   }
  },
  {
   "cell_type": "code",
   "execution_count": 25,
   "outputs": [
    {
     "name": "stdout",
     "output_type": "stream",
     "text": [
      "263263\n",
      "\n",
      "264264264\n",
      "\n",
      "\n",
      "265265\n",
      "\n",
      "266266\n",
      "\n",
      "267267\n",
      "\n",
      "268\n",
      "269269\n",
      "\n",
      "270270\n",
      "\n",
      "271271\n",
      "\n"
     ]
    },
    {
     "data": {
      "text/plain": "        0   1    2       3      4      5     6        7      8      9   ...  \\\n0        0   0    0     0.0    0.0    0.0   0.0    0.000  0.000  0.000  ...   \n1        0   0    0     0.0    0.0    0.0   0.0    0.000  0.000  0.000  ...   \n2        0   0    0     0.0    0.0    0.0   0.0    0.000  0.000  0.000  ...   \n3        0   0    0     0.0    0.0    0.0   0.0    0.000  0.000  0.000  ...   \n4        0   0    0     0.0    0.0    0.0   0.0    0.000  0.000  0.000  ...   \n...    ...  ..  ...     ...    ...    ...   ...      ...    ...    ...  ...   \n35843  209   2  209  4395.0   56.0   97.0  13.0  295.702  3.768  6.526  ...   \n35844  209   2  209  4451.0   56.0  102.0   5.0  299.470  3.768  6.863  ...   \n35845  209   2  209  4575.0  124.0  102.0   0.0  307.813  8.343  6.863  ...   \n35846  209   2  209  4649.0   74.0  104.0   2.0  312.792  4.979  6.997  ...   \n35847  209   2  209  4748.0   99.0  104.0   0.0  319.453  6.661  6.997  ...   \n\n           31   32     33  34  35    36  37  38  39  40  \n0      37.746  0.5  64.83  31  12  2019   2   1   0   0  \n1      37.746  0.5  64.83   1   1  2020   3   1   1   0  \n2      37.746  0.5  64.83   2   1  2020   4   1   0   0  \n3      37.746  0.5  64.83   3   1  2020   5   1   0   0  \n4      37.746  0.5  64.83   4   1  2020   6   1   0   0  \n...       ...  ...    ...  ..  ..   ...  ..  ..  ..  ..  \n35843  36.791  1.7  61.49   7   8  2020   5  32   0   0  \n35844  36.791  1.7  61.49   8   8  2020   6  32   0   0  \n35845  36.791  1.7  61.49   9   8  2020   7  32   0   1  \n35846  36.791  1.7  61.49  10   8  2020   1  33   0   0  \n35847  36.791  1.7  61.49  11   8  2020   2  33   0   1  \n\n[35848 rows x 41 columns]",
      "text/html": "<div>\n<style scoped>\n    .dataframe tbody tr th:only-of-type {\n        vertical-align: middle;\n    }\n\n    .dataframe tbody tr th {\n        vertical-align: top;\n    }\n\n    .dataframe thead th {\n        text-align: right;\n    }\n</style>\n<table border=\"1\" class=\"dataframe\">\n  <thead>\n    <tr style=\"text-align: right;\">\n      <th></th>\n      <th>0</th>\n      <th>1</th>\n      <th>2</th>\n      <th>3</th>\n      <th>4</th>\n      <th>5</th>\n      <th>6</th>\n      <th>7</th>\n      <th>8</th>\n      <th>9</th>\n      <th>...</th>\n      <th>31</th>\n      <th>32</th>\n      <th>33</th>\n      <th>34</th>\n      <th>35</th>\n      <th>36</th>\n      <th>37</th>\n      <th>38</th>\n      <th>39</th>\n      <th>40</th>\n    </tr>\n  </thead>\n  <tbody>\n    <tr>\n      <th>0</th>\n      <td>0</td>\n      <td>0</td>\n      <td>0</td>\n      <td>0.0</td>\n      <td>0.0</td>\n      <td>0.0</td>\n      <td>0.0</td>\n      <td>0.000</td>\n      <td>0.000</td>\n      <td>0.000</td>\n      <td>...</td>\n      <td>37.746</td>\n      <td>0.5</td>\n      <td>64.83</td>\n      <td>31</td>\n      <td>12</td>\n      <td>2019</td>\n      <td>2</td>\n      <td>1</td>\n      <td>0</td>\n      <td>0</td>\n    </tr>\n    <tr>\n      <th>1</th>\n      <td>0</td>\n      <td>0</td>\n      <td>0</td>\n      <td>0.0</td>\n      <td>0.0</td>\n      <td>0.0</td>\n      <td>0.0</td>\n      <td>0.000</td>\n      <td>0.000</td>\n      <td>0.000</td>\n      <td>...</td>\n      <td>37.746</td>\n      <td>0.5</td>\n      <td>64.83</td>\n      <td>1</td>\n      <td>1</td>\n      <td>2020</td>\n      <td>3</td>\n      <td>1</td>\n      <td>1</td>\n      <td>0</td>\n    </tr>\n    <tr>\n      <th>2</th>\n      <td>0</td>\n      <td>0</td>\n      <td>0</td>\n      <td>0.0</td>\n      <td>0.0</td>\n      <td>0.0</td>\n      <td>0.0</td>\n      <td>0.000</td>\n      <td>0.000</td>\n      <td>0.000</td>\n      <td>...</td>\n      <td>37.746</td>\n      <td>0.5</td>\n      <td>64.83</td>\n      <td>2</td>\n      <td>1</td>\n      <td>2020</td>\n      <td>4</td>\n      <td>1</td>\n      <td>0</td>\n      <td>0</td>\n    </tr>\n    <tr>\n      <th>3</th>\n      <td>0</td>\n      <td>0</td>\n      <td>0</td>\n      <td>0.0</td>\n      <td>0.0</td>\n      <td>0.0</td>\n      <td>0.0</td>\n      <td>0.000</td>\n      <td>0.000</td>\n      <td>0.000</td>\n      <td>...</td>\n      <td>37.746</td>\n      <td>0.5</td>\n      <td>64.83</td>\n      <td>3</td>\n      <td>1</td>\n      <td>2020</td>\n      <td>5</td>\n      <td>1</td>\n      <td>0</td>\n      <td>0</td>\n    </tr>\n    <tr>\n      <th>4</th>\n      <td>0</td>\n      <td>0</td>\n      <td>0</td>\n      <td>0.0</td>\n      <td>0.0</td>\n      <td>0.0</td>\n      <td>0.0</td>\n      <td>0.000</td>\n      <td>0.000</td>\n      <td>0.000</td>\n      <td>...</td>\n      <td>37.746</td>\n      <td>0.5</td>\n      <td>64.83</td>\n      <td>4</td>\n      <td>1</td>\n      <td>2020</td>\n      <td>6</td>\n      <td>1</td>\n      <td>0</td>\n      <td>0</td>\n    </tr>\n    <tr>\n      <th>...</th>\n      <td>...</td>\n      <td>...</td>\n      <td>...</td>\n      <td>...</td>\n      <td>...</td>\n      <td>...</td>\n      <td>...</td>\n      <td>...</td>\n      <td>...</td>\n      <td>...</td>\n      <td>...</td>\n      <td>...</td>\n      <td>...</td>\n      <td>...</td>\n      <td>...</td>\n      <td>...</td>\n      <td>...</td>\n      <td>...</td>\n      <td>...</td>\n      <td>...</td>\n      <td>...</td>\n    </tr>\n    <tr>\n      <th>35843</th>\n      <td>209</td>\n      <td>2</td>\n      <td>209</td>\n      <td>4395.0</td>\n      <td>56.0</td>\n      <td>97.0</td>\n      <td>13.0</td>\n      <td>295.702</td>\n      <td>3.768</td>\n      <td>6.526</td>\n      <td>...</td>\n      <td>36.791</td>\n      <td>1.7</td>\n      <td>61.49</td>\n      <td>7</td>\n      <td>8</td>\n      <td>2020</td>\n      <td>5</td>\n      <td>32</td>\n      <td>0</td>\n      <td>0</td>\n    </tr>\n    <tr>\n      <th>35844</th>\n      <td>209</td>\n      <td>2</td>\n      <td>209</td>\n      <td>4451.0</td>\n      <td>56.0</td>\n      <td>102.0</td>\n      <td>5.0</td>\n      <td>299.470</td>\n      <td>3.768</td>\n      <td>6.863</td>\n      <td>...</td>\n      <td>36.791</td>\n      <td>1.7</td>\n      <td>61.49</td>\n      <td>8</td>\n      <td>8</td>\n      <td>2020</td>\n      <td>6</td>\n      <td>32</td>\n      <td>0</td>\n      <td>0</td>\n    </tr>\n    <tr>\n      <th>35845</th>\n      <td>209</td>\n      <td>2</td>\n      <td>209</td>\n      <td>4575.0</td>\n      <td>124.0</td>\n      <td>102.0</td>\n      <td>0.0</td>\n      <td>307.813</td>\n      <td>8.343</td>\n      <td>6.863</td>\n      <td>...</td>\n      <td>36.791</td>\n      <td>1.7</td>\n      <td>61.49</td>\n      <td>9</td>\n      <td>8</td>\n      <td>2020</td>\n      <td>7</td>\n      <td>32</td>\n      <td>0</td>\n      <td>1</td>\n    </tr>\n    <tr>\n      <th>35846</th>\n      <td>209</td>\n      <td>2</td>\n      <td>209</td>\n      <td>4649.0</td>\n      <td>74.0</td>\n      <td>104.0</td>\n      <td>2.0</td>\n      <td>312.792</td>\n      <td>4.979</td>\n      <td>6.997</td>\n      <td>...</td>\n      <td>36.791</td>\n      <td>1.7</td>\n      <td>61.49</td>\n      <td>10</td>\n      <td>8</td>\n      <td>2020</td>\n      <td>1</td>\n      <td>33</td>\n      <td>0</td>\n      <td>0</td>\n    </tr>\n    <tr>\n      <th>35847</th>\n      <td>209</td>\n      <td>2</td>\n      <td>209</td>\n      <td>4748.0</td>\n      <td>99.0</td>\n      <td>104.0</td>\n      <td>0.0</td>\n      <td>319.453</td>\n      <td>6.661</td>\n      <td>6.997</td>\n      <td>...</td>\n      <td>36.791</td>\n      <td>1.7</td>\n      <td>61.49</td>\n      <td>11</td>\n      <td>8</td>\n      <td>2020</td>\n      <td>2</td>\n      <td>33</td>\n      <td>0</td>\n      <td>1</td>\n    </tr>\n  </tbody>\n</table>\n<p>35848 rows × 41 columns</p>\n</div>"
     },
     "execution_count": 25,
     "metadata": {},
     "output_type": "execute_result"
    }
   ],
   "source": [
    "df[0] = df[0].apply(lambda s: list(df[0].unique()).index(s))\n",
    "df[1] = df[1].apply(lambda s: list(df[1].unique()).index(s))\n",
    "df[2] = df[2].apply(lambda s: list(df[2].unique()).index(s))\n",
    "df"
   ],
   "metadata": {
    "collapsed": false,
    "pycharm": {
     "name": "#%%\n"
    }
   }
  },
  {
   "cell_type": "code",
   "execution_count": 26,
   "metadata": {
    "pycharm": {
     "name": "#%%\n"
    }
   },
   "outputs": [],
   "source": [
    "df[[0,1,2]] = df[[0,1,2]].astype(\"category\")\n",
    "df[[34,35,36,37,38,39,40]] = df[[34,35,36,37,38,39,40]].astype(\"category\")\n",
    "\n",
    "for i in range(3,34):\n",
    "    df[i] = df[i] / df[i].max()"
   ]
  },
  {
   "cell_type": "code",
   "execution_count": 27,
   "outputs": [
    {
     "data": {
      "text/plain": "                 3             4             5             6             7   \\\ncount  35848.000000  35848.000000  35848.000000  35848.000000  35848.000000   \nmean       0.005925      0.007140      0.009047      0.004168      0.031622   \nstd        0.037206      0.044798      0.051391      0.024926      0.074499   \nmin        0.000000     -0.031379      0.000000     -0.389205      0.000000   \n25%        0.000005      0.000000      0.000000      0.000000      0.000256   \n50%        0.000101      0.000077      0.000061      0.000000      0.004777   \n75%        0.001168      0.001390      0.000722      0.000406      0.027833   \nmax        1.000000      1.000000      1.000000      1.000000      1.000000   \n\n                 8             9             10            11            12  \\\ncount  35848.000000  35848.000000  35848.000000  35848.000000  35848.000000   \nmean       0.003844      0.035703      0.002678      0.006153      0.004890   \nstd        0.012949      0.103067      0.014660      0.041377      0.035305   \nmin       -0.053634      0.000000     -0.205074     -0.004038      0.000000   \n25%        0.000000      0.000000      0.000000      0.000000      0.000000   \n50%        0.000174      0.002048      0.000000      0.000000      0.000000   \n75%        0.002360      0.020546      0.000735      0.000692      0.000426   \nmax        1.000000      1.000000      1.000000      1.000000      1.000000   \n\n       ...            24            25            26            27  \\\ncount  ...  35848.000000  35848.000000  35848.000000  35848.000000   \nmean   ...      0.288471      0.162736      0.089120      0.310895   \nstd    ...      0.244225      0.176606      0.202140      0.186174   \nmin    ...      0.000000      0.000000      0.000000      0.000000   \n25%    ...      0.096415      0.026106      0.000000      0.177073   \n50%    ...      0.190288      0.104645      0.002577      0.301811   \n75%    ...      0.497864      0.252115      0.032216      0.419917   \nmax    ...      1.000000      1.000000      1.000000      1.000000   \n\n                 28            29            30            31            32  \\\ncount  35848.000000  35848.000000  35848.000000  35848.000000  35848.000000   \nmean       0.320359      0.177635      0.293276      0.219663      0.185877   \nstd        0.191948      0.231510      0.239042      0.333712      0.188882   \nmin        0.000000      0.000000      0.000000      0.000000      0.000000   \n25%        0.204623      0.000000      0.000000      0.000000      0.050725   \n50%        0.301370      0.047727      0.306018      0.000000      0.144928   \n75%        0.431507      0.318182      0.481434      0.423732      0.260870   \nmax        1.000000      1.000000      1.000000      1.000000      1.000000   \n\n                 33  \ncount  35848.000000  \nmean       0.844727  \nstd        0.126434  \nmin        0.000000  \n25%        0.805418  \n50%        0.873775  \n75%        0.922997  \nmax        1.000000  \n\n[8 rows x 31 columns]",
      "text/html": "<div>\n<style scoped>\n    .dataframe tbody tr th:only-of-type {\n        vertical-align: middle;\n    }\n\n    .dataframe tbody tr th {\n        vertical-align: top;\n    }\n\n    .dataframe thead th {\n        text-align: right;\n    }\n</style>\n<table border=\"1\" class=\"dataframe\">\n  <thead>\n    <tr style=\"text-align: right;\">\n      <th></th>\n      <th>3</th>\n      <th>4</th>\n      <th>5</th>\n      <th>6</th>\n      <th>7</th>\n      <th>8</th>\n      <th>9</th>\n      <th>10</th>\n      <th>11</th>\n      <th>12</th>\n      <th>...</th>\n      <th>24</th>\n      <th>25</th>\n      <th>26</th>\n      <th>27</th>\n      <th>28</th>\n      <th>29</th>\n      <th>30</th>\n      <th>31</th>\n      <th>32</th>\n      <th>33</th>\n    </tr>\n  </thead>\n  <tbody>\n    <tr>\n      <th>count</th>\n      <td>35848.000000</td>\n      <td>35848.000000</td>\n      <td>35848.000000</td>\n      <td>35848.000000</td>\n      <td>35848.000000</td>\n      <td>35848.000000</td>\n      <td>35848.000000</td>\n      <td>35848.000000</td>\n      <td>35848.000000</td>\n      <td>35848.000000</td>\n      <td>...</td>\n      <td>35848.000000</td>\n      <td>35848.000000</td>\n      <td>35848.000000</td>\n      <td>35848.000000</td>\n      <td>35848.000000</td>\n      <td>35848.000000</td>\n      <td>35848.000000</td>\n      <td>35848.000000</td>\n      <td>35848.000000</td>\n      <td>35848.000000</td>\n    </tr>\n    <tr>\n      <th>mean</th>\n      <td>0.005925</td>\n      <td>0.007140</td>\n      <td>0.009047</td>\n      <td>0.004168</td>\n      <td>0.031622</td>\n      <td>0.003844</td>\n      <td>0.035703</td>\n      <td>0.002678</td>\n      <td>0.006153</td>\n      <td>0.004890</td>\n      <td>...</td>\n      <td>0.288471</td>\n      <td>0.162736</td>\n      <td>0.089120</td>\n      <td>0.310895</td>\n      <td>0.320359</td>\n      <td>0.177635</td>\n      <td>0.293276</td>\n      <td>0.219663</td>\n      <td>0.185877</td>\n      <td>0.844727</td>\n    </tr>\n    <tr>\n      <th>std</th>\n      <td>0.037206</td>\n      <td>0.044798</td>\n      <td>0.051391</td>\n      <td>0.024926</td>\n      <td>0.074499</td>\n      <td>0.012949</td>\n      <td>0.103067</td>\n      <td>0.014660</td>\n      <td>0.041377</td>\n      <td>0.035305</td>\n      <td>...</td>\n      <td>0.244225</td>\n      <td>0.176606</td>\n      <td>0.202140</td>\n      <td>0.186174</td>\n      <td>0.191948</td>\n      <td>0.231510</td>\n      <td>0.239042</td>\n      <td>0.333712</td>\n      <td>0.188882</td>\n      <td>0.126434</td>\n    </tr>\n    <tr>\n      <th>min</th>\n      <td>0.000000</td>\n      <td>-0.031379</td>\n      <td>0.000000</td>\n      <td>-0.389205</td>\n      <td>0.000000</td>\n      <td>-0.053634</td>\n      <td>0.000000</td>\n      <td>-0.205074</td>\n      <td>-0.004038</td>\n      <td>0.000000</td>\n      <td>...</td>\n      <td>0.000000</td>\n      <td>0.000000</td>\n      <td>0.000000</td>\n      <td>0.000000</td>\n      <td>0.000000</td>\n      <td>0.000000</td>\n      <td>0.000000</td>\n      <td>0.000000</td>\n      <td>0.000000</td>\n      <td>0.000000</td>\n    </tr>\n    <tr>\n      <th>25%</th>\n      <td>0.000005</td>\n      <td>0.000000</td>\n      <td>0.000000</td>\n      <td>0.000000</td>\n      <td>0.000256</td>\n      <td>0.000000</td>\n      <td>0.000000</td>\n      <td>0.000000</td>\n      <td>0.000000</td>\n      <td>0.000000</td>\n      <td>...</td>\n      <td>0.096415</td>\n      <td>0.026106</td>\n      <td>0.000000</td>\n      <td>0.177073</td>\n      <td>0.204623</td>\n      <td>0.000000</td>\n      <td>0.000000</td>\n      <td>0.000000</td>\n      <td>0.050725</td>\n      <td>0.805418</td>\n    </tr>\n    <tr>\n      <th>50%</th>\n      <td>0.000101</td>\n      <td>0.000077</td>\n      <td>0.000061</td>\n      <td>0.000000</td>\n      <td>0.004777</td>\n      <td>0.000174</td>\n      <td>0.002048</td>\n      <td>0.000000</td>\n      <td>0.000000</td>\n      <td>0.000000</td>\n      <td>...</td>\n      <td>0.190288</td>\n      <td>0.104645</td>\n      <td>0.002577</td>\n      <td>0.301811</td>\n      <td>0.301370</td>\n      <td>0.047727</td>\n      <td>0.306018</td>\n      <td>0.000000</td>\n      <td>0.144928</td>\n      <td>0.873775</td>\n    </tr>\n    <tr>\n      <th>75%</th>\n      <td>0.001168</td>\n      <td>0.001390</td>\n      <td>0.000722</td>\n      <td>0.000406</td>\n      <td>0.027833</td>\n      <td>0.002360</td>\n      <td>0.020546</td>\n      <td>0.000735</td>\n      <td>0.000692</td>\n      <td>0.000426</td>\n      <td>...</td>\n      <td>0.497864</td>\n      <td>0.252115</td>\n      <td>0.032216</td>\n      <td>0.419917</td>\n      <td>0.431507</td>\n      <td>0.318182</td>\n      <td>0.481434</td>\n      <td>0.423732</td>\n      <td>0.260870</td>\n      <td>0.922997</td>\n    </tr>\n    <tr>\n      <th>max</th>\n      <td>1.000000</td>\n      <td>1.000000</td>\n      <td>1.000000</td>\n      <td>1.000000</td>\n      <td>1.000000</td>\n      <td>1.000000</td>\n      <td>1.000000</td>\n      <td>1.000000</td>\n      <td>1.000000</td>\n      <td>1.000000</td>\n      <td>...</td>\n      <td>1.000000</td>\n      <td>1.000000</td>\n      <td>1.000000</td>\n      <td>1.000000</td>\n      <td>1.000000</td>\n      <td>1.000000</td>\n      <td>1.000000</td>\n      <td>1.000000</td>\n      <td>1.000000</td>\n      <td>1.000000</td>\n    </tr>\n  </tbody>\n</table>\n<p>8 rows × 31 columns</p>\n</div>"
     },
     "execution_count": 27,
     "metadata": {},
     "output_type": "execute_result"
    }
   ],
   "source": [
    "df.describe()"
   ],
   "metadata": {
    "collapsed": false,
    "pycharm": {
     "name": "#%%\n"
    }
   }
  },
  {
   "cell_type": "code",
   "execution_count": 28,
   "outputs": [],
   "source": [
    "Y = df[40]\n",
    "X = df.drop([40],axis= 1)\n",
    "\n"
   ],
   "metadata": {
    "collapsed": false,
    "pycharm": {
     "name": "#%%\n"
    }
   }
  },
  {
   "cell_type": "code",
   "execution_count": 29,
   "metadata": {
    "pycharm": {
     "name": "#%%\n"
    }
   },
   "outputs": [],
   "source": [
    "\n",
    "hvdm_metric = HVDM(df,40,[0,1,2,34,35,36,37,38,39])\n"
   ]
  },
  {
   "cell_type": "code",
   "execution_count": 30,
   "metadata": {
    "colab": {
     "base_uri": "https://localhost:8080/",
     "height": 34
    },
    "id": "uIi2hShj1MFS",
    "outputId": "3f52b75e-cee9-460c-b259-3b04d4ee7a5e"
   },
   "outputs": [
    {
     "data": {
      "text/plain": "23327"
     },
     "execution_count": 30,
     "metadata": {},
     "output_type": "execute_result"
    }
   ],
   "source": [
    "Y[Y==0].count()"
   ]
  },
  {
   "cell_type": "code",
   "execution_count": 10,
   "metadata": {
    "id": "UzqKJ98_1MFc"
   },
   "outputs": [],
   "source": []
  },
  {
   "cell_type": "code",
   "execution_count": 31,
   "metadata": {
    "id": "pQdjwgzv1MFj"
   },
   "outputs": [],
   "source": [
    "Knn = nn.KNeighborsClassifier(metric = hvdm_metric.hvdm,algorithm=\"brute\", n_jobs=-1)\n"
   ]
  },
  {
   "cell_type": "code",
   "execution_count": 12,
   "metadata": {
    "colab": {
     "base_uri": "https://localhost:8080/",
     "height": 69
    },
    "id": "hXFL6lgO1MFq",
    "outputId": "9fcc5516-3b62-446a-8298-e8181e45350f"
   },
   "outputs": [
    {
     "data": {
      "text/plain": "                 3             4              5             6             7   \\\ncount  3.584800e+04  35848.000000   35848.000000  35848.000000  35848.000000   \nmean   3.018504e+04    560.000669    1478.834830     20.541313   1243.153167   \nstd    1.895409e+05   3513.342109    8400.379804    122.836727   2928.742220   \nmin    0.000000e+00  -2461.000000       0.000000  -1918.000000      0.000000   \n25%    2.300000e+01      0.000000       0.000000      0.000000     10.066750   \n50%    5.140000e+02      6.000000      10.000000      0.000000    187.799000   \n75%    5.951250e+03    109.000000     118.000000      2.000000   1094.205750   \nmax    5.094394e+06  78427.000000  163461.000000   4928.000000  39312.614000   \n\n                 8             9             10             11            12  \\\ncount  35848.000000  35848.000000  35848.000000   35848.000000  3.584800e+04   \nmean      19.005809     44.184882      0.535636    5703.118193  3.021797e+05   \nstd       64.023875    127.550549      2.932495   38351.189543  2.181604e+06   \nmin     -265.189000      0.000000    -41.023000   -3743.000000  0.000000e+00   \n25%        0.000000      0.000000      0.000000       0.000000  0.000000e+00   \n50%        0.861000      2.535000      0.000000       0.000000  0.000000e+00   \n75%       11.667500     25.427000      0.147000     641.250000  2.635200e+04   \nmax     4944.376000   1237.551000    200.040000  926876.000000  6.179257e+07   \n\n       ...            24             25            26            27  \\\ncount  ...  35848.000000   35848.000000  35848.000000  35848.000000   \nmean   ...      5.334689   19029.658259      6.915741    225.217341   \nstd    ...      4.516452   20651.576614     15.686066    134.867845   \nmin    ...      0.000000       0.000000      0.000000      0.000000   \n25%    ...      1.783000    3052.714000      0.000000    128.275000   \n50%    ...      3.519000   12236.706000      0.200000    218.637000   \n75%    ...      9.207000   29481.252000      2.500000    304.195000   \nmax    ...     18.493000  116935.600000     77.600000    724.417000   \n\n                 28            29            30            31            32  \\\ncount  35848.000000  35848.000000  35848.000000  35848.000000  35848.000000   \nmean       7.483589      7.815920     22.904832     21.746443      2.565104   \nstd        4.483908     10.186425     18.669149     33.037164      2.606578   \nmin        0.000000      0.000000      0.000000      0.000000      0.000000   \n25%        4.780000      0.000000      0.000000      0.000000      0.700000   \n50%        7.040000      2.100000     23.900000      0.000000      2.000000   \n75%       10.080000     14.000000     37.600000     41.949000      3.600000   \nmax       23.360000     44.000000     78.100000     98.999000     13.800000   \n\n                 33  \ncount  35848.000000  \nmean      73.280093  \nstd       10.968142  \nmin        0.000000  \n25%       69.870000  \n50%       75.800000  \n75%       80.070000  \nmax       86.750000  \n\n[8 rows x 31 columns]",
      "text/html": "<div>\n<style scoped>\n    .dataframe tbody tr th:only-of-type {\n        vertical-align: middle;\n    }\n\n    .dataframe tbody tr th {\n        vertical-align: top;\n    }\n\n    .dataframe thead th {\n        text-align: right;\n    }\n</style>\n<table border=\"1\" class=\"dataframe\">\n  <thead>\n    <tr style=\"text-align: right;\">\n      <th></th>\n      <th>3</th>\n      <th>4</th>\n      <th>5</th>\n      <th>6</th>\n      <th>7</th>\n      <th>8</th>\n      <th>9</th>\n      <th>10</th>\n      <th>11</th>\n      <th>12</th>\n      <th>...</th>\n      <th>24</th>\n      <th>25</th>\n      <th>26</th>\n      <th>27</th>\n      <th>28</th>\n      <th>29</th>\n      <th>30</th>\n      <th>31</th>\n      <th>32</th>\n      <th>33</th>\n    </tr>\n  </thead>\n  <tbody>\n    <tr>\n      <th>count</th>\n      <td>3.584800e+04</td>\n      <td>35848.000000</td>\n      <td>35848.000000</td>\n      <td>35848.000000</td>\n      <td>35848.000000</td>\n      <td>35848.000000</td>\n      <td>35848.000000</td>\n      <td>35848.000000</td>\n      <td>35848.000000</td>\n      <td>3.584800e+04</td>\n      <td>...</td>\n      <td>35848.000000</td>\n      <td>35848.000000</td>\n      <td>35848.000000</td>\n      <td>35848.000000</td>\n      <td>35848.000000</td>\n      <td>35848.000000</td>\n      <td>35848.000000</td>\n      <td>35848.000000</td>\n      <td>35848.000000</td>\n      <td>35848.000000</td>\n    </tr>\n    <tr>\n      <th>mean</th>\n      <td>3.018504e+04</td>\n      <td>560.000669</td>\n      <td>1478.834830</td>\n      <td>20.541313</td>\n      <td>1243.153167</td>\n      <td>19.005809</td>\n      <td>44.184882</td>\n      <td>0.535636</td>\n      <td>5703.118193</td>\n      <td>3.021797e+05</td>\n      <td>...</td>\n      <td>5.334689</td>\n      <td>19029.658259</td>\n      <td>6.915741</td>\n      <td>225.217341</td>\n      <td>7.483589</td>\n      <td>7.815920</td>\n      <td>22.904832</td>\n      <td>21.746443</td>\n      <td>2.565104</td>\n      <td>73.280093</td>\n    </tr>\n    <tr>\n      <th>std</th>\n      <td>1.895409e+05</td>\n      <td>3513.342109</td>\n      <td>8400.379804</td>\n      <td>122.836727</td>\n      <td>2928.742220</td>\n      <td>64.023875</td>\n      <td>127.550549</td>\n      <td>2.932495</td>\n      <td>38351.189543</td>\n      <td>2.181604e+06</td>\n      <td>...</td>\n      <td>4.516452</td>\n      <td>20651.576614</td>\n      <td>15.686066</td>\n      <td>134.867845</td>\n      <td>4.483908</td>\n      <td>10.186425</td>\n      <td>18.669149</td>\n      <td>33.037164</td>\n      <td>2.606578</td>\n      <td>10.968142</td>\n    </tr>\n    <tr>\n      <th>min</th>\n      <td>0.000000e+00</td>\n      <td>-2461.000000</td>\n      <td>0.000000</td>\n      <td>-1918.000000</td>\n      <td>0.000000</td>\n      <td>-265.189000</td>\n      <td>0.000000</td>\n      <td>-41.023000</td>\n      <td>-3743.000000</td>\n      <td>0.000000e+00</td>\n      <td>...</td>\n      <td>0.000000</td>\n      <td>0.000000</td>\n      <td>0.000000</td>\n      <td>0.000000</td>\n      <td>0.000000</td>\n      <td>0.000000</td>\n      <td>0.000000</td>\n      <td>0.000000</td>\n      <td>0.000000</td>\n      <td>0.000000</td>\n    </tr>\n    <tr>\n      <th>25%</th>\n      <td>2.300000e+01</td>\n      <td>0.000000</td>\n      <td>0.000000</td>\n      <td>0.000000</td>\n      <td>10.066750</td>\n      <td>0.000000</td>\n      <td>0.000000</td>\n      <td>0.000000</td>\n      <td>0.000000</td>\n      <td>0.000000e+00</td>\n      <td>...</td>\n      <td>1.783000</td>\n      <td>3052.714000</td>\n      <td>0.000000</td>\n      <td>128.275000</td>\n      <td>4.780000</td>\n      <td>0.000000</td>\n      <td>0.000000</td>\n      <td>0.000000</td>\n      <td>0.700000</td>\n      <td>69.870000</td>\n    </tr>\n    <tr>\n      <th>50%</th>\n      <td>5.140000e+02</td>\n      <td>6.000000</td>\n      <td>10.000000</td>\n      <td>0.000000</td>\n      <td>187.799000</td>\n      <td>0.861000</td>\n      <td>2.535000</td>\n      <td>0.000000</td>\n      <td>0.000000</td>\n      <td>0.000000e+00</td>\n      <td>...</td>\n      <td>3.519000</td>\n      <td>12236.706000</td>\n      <td>0.200000</td>\n      <td>218.637000</td>\n      <td>7.040000</td>\n      <td>2.100000</td>\n      <td>23.900000</td>\n      <td>0.000000</td>\n      <td>2.000000</td>\n      <td>75.800000</td>\n    </tr>\n    <tr>\n      <th>75%</th>\n      <td>5.951250e+03</td>\n      <td>109.000000</td>\n      <td>118.000000</td>\n      <td>2.000000</td>\n      <td>1094.205750</td>\n      <td>11.667500</td>\n      <td>25.427000</td>\n      <td>0.147000</td>\n      <td>641.250000</td>\n      <td>2.635200e+04</td>\n      <td>...</td>\n      <td>9.207000</td>\n      <td>29481.252000</td>\n      <td>2.500000</td>\n      <td>304.195000</td>\n      <td>10.080000</td>\n      <td>14.000000</td>\n      <td>37.600000</td>\n      <td>41.949000</td>\n      <td>3.600000</td>\n      <td>80.070000</td>\n    </tr>\n    <tr>\n      <th>max</th>\n      <td>5.094394e+06</td>\n      <td>78427.000000</td>\n      <td>163461.000000</td>\n      <td>4928.000000</td>\n      <td>39312.614000</td>\n      <td>4944.376000</td>\n      <td>1237.551000</td>\n      <td>200.040000</td>\n      <td>926876.000000</td>\n      <td>6.179257e+07</td>\n      <td>...</td>\n      <td>18.493000</td>\n      <td>116935.600000</td>\n      <td>77.600000</td>\n      <td>724.417000</td>\n      <td>23.360000</td>\n      <td>44.000000</td>\n      <td>78.100000</td>\n      <td>98.999000</td>\n      <td>13.800000</td>\n      <td>86.750000</td>\n    </tr>\n  </tbody>\n</table>\n<p>8 rows × 31 columns</p>\n</div>"
     },
     "execution_count": 12,
     "metadata": {},
     "output_type": "execute_result"
    }
   ],
   "source": [
    "X.describe()\n"
   ]
  },
  {
   "cell_type": "code",
   "execution_count": 32,
   "metadata": {
    "pycharm": {
     "name": "#%%\n"
    }
   },
   "outputs": [
    {
     "data": {
      "text/plain": "KNeighborsClassifier(algorithm='brute',\n                     metric=<bound method HVDM.hvdm of <HVDM.HVDM object at 0x11b2c6cc0>>,\n                     n_jobs=-1)"
     },
     "execution_count": 32,
     "metadata": {},
     "output_type": "execute_result"
    }
   ],
   "source": [
    "Knn.fit(X,Y)"
   ]
  },
  {
   "cell_type": "code",
   "execution_count": 33,
   "metadata": {
    "id": "xFFbsT9Y1MFv"
   },
   "outputs": [],
   "source": [
    "majorityClass = np.bincount(Y).argmax()"
   ]
  },
  {
   "cell_type": "code",
   "execution_count": 15,
   "metadata": {
    "colab": {
     "base_uri": "https://localhost:8080/",
     "height": 34
    },
    "id": "Ud_ybUx-3PRM",
    "outputId": "5bd77326-63f9-45a9-a73c-8f000d85d4ff"
   },
   "outputs": [
    {
     "data": {
      "text/plain": "0"
     },
     "execution_count": 15,
     "metadata": {},
     "output_type": "execute_result"
    }
   ],
   "source": [
    "majorityClass"
   ]
  },
  {
   "cell_type": "code",
   "execution_count": 34,
   "metadata": {
    "id": "XR4UIavq1MF5"
   },
   "outputs": [
    {
     "data": {
      "text/plain": "        0  1    2             3         4         5         6             7   \\\n56       0  0    0  1.962942e-07  0.000013  0.000000  0.000000  6.613653e-07   \n63       0  0    0  7.851768e-07  0.000038  0.000000  0.000000  2.620024e-06   \n66       0  0    0  3.140707e-06  0.000077  0.000000  0.000000  1.045466e-05   \n71       0  0    0  4.711061e-06  0.000026  0.000000  0.000000  1.569471e-05   \n73       0  0    0  6.674003e-06  0.000128  0.000000  0.000000  2.220661e-05   \n...    ... ..  ...           ...       ...       ...       ...           ...   \n35833  209  2  209  5.307795e-04  0.002448  0.000220  0.000406  4.627751e-03   \n35836  209  2  209  6.069417e-04  0.002716  0.000324  0.002435  5.291788e-03   \n35838  209  2  209  7.182405e-04  0.006248  0.000422  0.000406  6.262189e-03   \n35845  209  2  209  8.980460e-04  0.001581  0.000624  0.000000  7.829879e-03   \n35847  209  2  209  9.320049e-04  0.001262  0.000636  0.000000  8.125967e-03   \n\n             8         9   ...        30        31        32        33  34  \\\n56     0.000005  0.000000  ...  0.000000  0.381277  0.036232  0.747320  25   \n63     0.000016  0.000000  ...  0.000000  0.381277  0.036232  0.747320   8   \n66     0.000031  0.000000  ...  0.000000  0.381277  0.036232  0.747320  16   \n71     0.000010  0.000000  ...  0.000000  0.381277  0.036232  0.747320  21   \n73     0.000052  0.000000  ...  0.000000  0.381277  0.036232  0.747320  23   \n...         ...       ...  ...       ...       ...       ...       ...  ..   \n35833  0.002613  0.001957  ...  0.393086  0.371630  0.123188  0.708818  28   \n35836  0.002898  0.002881  ...  0.393086  0.371630  0.123188  0.708818  31   \n35838  0.006668  0.003751  ...  0.393086  0.371630  0.123188  0.708818   2   \n35845  0.001687  0.005546  ...  0.393086  0.371630  0.123188  0.708818   9   \n35847  0.001347  0.005654  ...  0.393086  0.371630  0.123188  0.708818  11   \n\n       35    36  37  38  39  \n56      2  2020   2   9   0  \n63      3  2020   7  10   0  \n66      3  2020   1  12   0  \n71      3  2020   6  12   0  \n73      3  2020   1  13   0  \n...    ..   ...  ..  ..  ..  \n35833   7  2020   2  31   0  \n35836   7  2020   5  31   0  \n35838   8  2020   7  31   0  \n35845   8  2020   7  32   0  \n35847   8  2020   2  33   0  \n\n[12521 rows x 40 columns]",
      "text/html": "<div>\n<style scoped>\n    .dataframe tbody tr th:only-of-type {\n        vertical-align: middle;\n    }\n\n    .dataframe tbody tr th {\n        vertical-align: top;\n    }\n\n    .dataframe thead th {\n        text-align: right;\n    }\n</style>\n<table border=\"1\" class=\"dataframe\">\n  <thead>\n    <tr style=\"text-align: right;\">\n      <th></th>\n      <th>0</th>\n      <th>1</th>\n      <th>2</th>\n      <th>3</th>\n      <th>4</th>\n      <th>5</th>\n      <th>6</th>\n      <th>7</th>\n      <th>8</th>\n      <th>9</th>\n      <th>...</th>\n      <th>30</th>\n      <th>31</th>\n      <th>32</th>\n      <th>33</th>\n      <th>34</th>\n      <th>35</th>\n      <th>36</th>\n      <th>37</th>\n      <th>38</th>\n      <th>39</th>\n    </tr>\n  </thead>\n  <tbody>\n    <tr>\n      <th>56</th>\n      <td>0</td>\n      <td>0</td>\n      <td>0</td>\n      <td>1.962942e-07</td>\n      <td>0.000013</td>\n      <td>0.000000</td>\n      <td>0.000000</td>\n      <td>6.613653e-07</td>\n      <td>0.000005</td>\n      <td>0.000000</td>\n      <td>...</td>\n      <td>0.000000</td>\n      <td>0.381277</td>\n      <td>0.036232</td>\n      <td>0.747320</td>\n      <td>25</td>\n      <td>2</td>\n      <td>2020</td>\n      <td>2</td>\n      <td>9</td>\n      <td>0</td>\n    </tr>\n    <tr>\n      <th>63</th>\n      <td>0</td>\n      <td>0</td>\n      <td>0</td>\n      <td>7.851768e-07</td>\n      <td>0.000038</td>\n      <td>0.000000</td>\n      <td>0.000000</td>\n      <td>2.620024e-06</td>\n      <td>0.000016</td>\n      <td>0.000000</td>\n      <td>...</td>\n      <td>0.000000</td>\n      <td>0.381277</td>\n      <td>0.036232</td>\n      <td>0.747320</td>\n      <td>8</td>\n      <td>3</td>\n      <td>2020</td>\n      <td>7</td>\n      <td>10</td>\n      <td>0</td>\n    </tr>\n    <tr>\n      <th>66</th>\n      <td>0</td>\n      <td>0</td>\n      <td>0</td>\n      <td>3.140707e-06</td>\n      <td>0.000077</td>\n      <td>0.000000</td>\n      <td>0.000000</td>\n      <td>1.045466e-05</td>\n      <td>0.000031</td>\n      <td>0.000000</td>\n      <td>...</td>\n      <td>0.000000</td>\n      <td>0.381277</td>\n      <td>0.036232</td>\n      <td>0.747320</td>\n      <td>16</td>\n      <td>3</td>\n      <td>2020</td>\n      <td>1</td>\n      <td>12</td>\n      <td>0</td>\n    </tr>\n    <tr>\n      <th>71</th>\n      <td>0</td>\n      <td>0</td>\n      <td>0</td>\n      <td>4.711061e-06</td>\n      <td>0.000026</td>\n      <td>0.000000</td>\n      <td>0.000000</td>\n      <td>1.569471e-05</td>\n      <td>0.000010</td>\n      <td>0.000000</td>\n      <td>...</td>\n      <td>0.000000</td>\n      <td>0.381277</td>\n      <td>0.036232</td>\n      <td>0.747320</td>\n      <td>21</td>\n      <td>3</td>\n      <td>2020</td>\n      <td>6</td>\n      <td>12</td>\n      <td>0</td>\n    </tr>\n    <tr>\n      <th>73</th>\n      <td>0</td>\n      <td>0</td>\n      <td>0</td>\n      <td>6.674003e-06</td>\n      <td>0.000128</td>\n      <td>0.000000</td>\n      <td>0.000000</td>\n      <td>2.220661e-05</td>\n      <td>0.000052</td>\n      <td>0.000000</td>\n      <td>...</td>\n      <td>0.000000</td>\n      <td>0.381277</td>\n      <td>0.036232</td>\n      <td>0.747320</td>\n      <td>23</td>\n      <td>3</td>\n      <td>2020</td>\n      <td>1</td>\n      <td>13</td>\n      <td>0</td>\n    </tr>\n    <tr>\n      <th>...</th>\n      <td>...</td>\n      <td>...</td>\n      <td>...</td>\n      <td>...</td>\n      <td>...</td>\n      <td>...</td>\n      <td>...</td>\n      <td>...</td>\n      <td>...</td>\n      <td>...</td>\n      <td>...</td>\n      <td>...</td>\n      <td>...</td>\n      <td>...</td>\n      <td>...</td>\n      <td>...</td>\n      <td>...</td>\n      <td>...</td>\n      <td>...</td>\n      <td>...</td>\n      <td>...</td>\n    </tr>\n    <tr>\n      <th>35833</th>\n      <td>209</td>\n      <td>2</td>\n      <td>209</td>\n      <td>5.307795e-04</td>\n      <td>0.002448</td>\n      <td>0.000220</td>\n      <td>0.000406</td>\n      <td>4.627751e-03</td>\n      <td>0.002613</td>\n      <td>0.001957</td>\n      <td>...</td>\n      <td>0.393086</td>\n      <td>0.371630</td>\n      <td>0.123188</td>\n      <td>0.708818</td>\n      <td>28</td>\n      <td>7</td>\n      <td>2020</td>\n      <td>2</td>\n      <td>31</td>\n      <td>0</td>\n    </tr>\n    <tr>\n      <th>35836</th>\n      <td>209</td>\n      <td>2</td>\n      <td>209</td>\n      <td>6.069417e-04</td>\n      <td>0.002716</td>\n      <td>0.000324</td>\n      <td>0.002435</td>\n      <td>5.291788e-03</td>\n      <td>0.002898</td>\n      <td>0.002881</td>\n      <td>...</td>\n      <td>0.393086</td>\n      <td>0.371630</td>\n      <td>0.123188</td>\n      <td>0.708818</td>\n      <td>31</td>\n      <td>7</td>\n      <td>2020</td>\n      <td>5</td>\n      <td>31</td>\n      <td>0</td>\n    </tr>\n    <tr>\n      <th>35838</th>\n      <td>209</td>\n      <td>2</td>\n      <td>209</td>\n      <td>7.182405e-04</td>\n      <td>0.006248</td>\n      <td>0.000422</td>\n      <td>0.000406</td>\n      <td>6.262189e-03</td>\n      <td>0.006668</td>\n      <td>0.003751</td>\n      <td>...</td>\n      <td>0.393086</td>\n      <td>0.371630</td>\n      <td>0.123188</td>\n      <td>0.708818</td>\n      <td>2</td>\n      <td>8</td>\n      <td>2020</td>\n      <td>7</td>\n      <td>31</td>\n      <td>0</td>\n    </tr>\n    <tr>\n      <th>35845</th>\n      <td>209</td>\n      <td>2</td>\n      <td>209</td>\n      <td>8.980460e-04</td>\n      <td>0.001581</td>\n      <td>0.000624</td>\n      <td>0.000000</td>\n      <td>7.829879e-03</td>\n      <td>0.001687</td>\n      <td>0.005546</td>\n      <td>...</td>\n      <td>0.393086</td>\n      <td>0.371630</td>\n      <td>0.123188</td>\n      <td>0.708818</td>\n      <td>9</td>\n      <td>8</td>\n      <td>2020</td>\n      <td>7</td>\n      <td>32</td>\n      <td>0</td>\n    </tr>\n    <tr>\n      <th>35847</th>\n      <td>209</td>\n      <td>2</td>\n      <td>209</td>\n      <td>9.320049e-04</td>\n      <td>0.001262</td>\n      <td>0.000636</td>\n      <td>0.000000</td>\n      <td>8.125967e-03</td>\n      <td>0.001347</td>\n      <td>0.005654</td>\n      <td>...</td>\n      <td>0.393086</td>\n      <td>0.371630</td>\n      <td>0.123188</td>\n      <td>0.708818</td>\n      <td>11</td>\n      <td>8</td>\n      <td>2020</td>\n      <td>2</td>\n      <td>33</td>\n      <td>0</td>\n    </tr>\n  </tbody>\n</table>\n<p>12521 rows × 40 columns</p>\n</div>"
     },
     "execution_count": 34,
     "metadata": {},
     "output_type": "execute_result"
    }
   ],
   "source": [
    "category = [\"safe\",\"borderline\",\"rare\",\"outlier\"]\n",
    "\n",
    "X[Y != majorityClass]"
   ]
  },
  {
   "cell_type": "code",
   "execution_count": null,
   "metadata": {
    "id": "ZZmB_bnq1MF_",
    "pycharm": {
     "is_executing": true
    }
   },
   "outputs": [
    {
     "name": "stdout",
     "output_type": "stream",
     "text": [
      "00\n",
      "\n",
      "272272\n",
      "\n",
      "1\n",
      "1\n",
      "273\n",
      "2\n",
      "2\n",
      "274\n",
      "33\n",
      "3\n",
      "\n",
      "275275\n",
      "\n",
      "4\n",
      "276\n",
      "5\n",
      "5\n",
      "277\n",
      "66\n",
      "\n",
      "278\n",
      "7\n",
      "279\n",
      "8\n",
      "8\n",
      "280\n",
      "9\n",
      "281\n",
      "10\n",
      "10\n",
      "282\n",
      "11\n",
      "283\n",
      "12\n",
      "284\n",
      "13\n",
      "285\n",
      "14\n",
      "286\n",
      "1515\n",
      "\n",
      "287287\n",
      "\n",
      "1616\n",
      "\n",
      "288\n",
      "17\n",
      "289289289\n",
      "\n",
      "\n",
      "18\n",
      "18\n",
      "290\n",
      "19\n",
      "291\n",
      "20\n",
      "292\n",
      "21\n",
      "293293293\n",
      "\n",
      "\n",
      "2222\n",
      "\n",
      "294\n",
      "23\n",
      "295295295\n",
      "\n",
      "\n",
      "24\n",
      "2525\n",
      "\n",
      "296296\n",
      "\n",
      "2626\n",
      "\n",
      "297\n",
      "27\n",
      "298298298\n",
      "\n",
      "\n",
      "28\n",
      "299299\n",
      "\n",
      "29\n",
      "300300\n",
      "\n",
      "30\n",
      "301301\n",
      "\n",
      "31\n",
      "302\n",
      "32\n",
      "303\n",
      "33\n",
      "304304\n",
      "\n",
      "34\n",
      "305305\n",
      "\n",
      "35\n",
      "306\n",
      "36\n",
      "307\n",
      "37\n",
      "308\n",
      "38\n",
      "309\n",
      "3939\n",
      "\n",
      "310\n",
      "40\n",
      "311311\n",
      "311\n",
      "\n",
      "4141\n",
      "\n",
      "312\n",
      "312\n",
      "4242\n",
      "\n",
      "313313313\n",
      "\n",
      "\n",
      "43\n",
      "314314\n",
      "\n",
      "44\n",
      "315315\n",
      "\n",
      "45\n",
      "45\n",
      "316316\n",
      "\n",
      "46\n",
      "47\n",
      "317\n",
      "48\n",
      "318\n",
      "49\n",
      "319\n",
      "5050\n",
      "\n",
      "320\n",
      "5151\n",
      "\n",
      "321321\n",
      "321\n",
      "\n",
      "52\n",
      "322\n",
      "5353\n",
      "\n",
      "323\n",
      "323\n",
      "54\n",
      "324324\n",
      "\n",
      "5555\n",
      "\n",
      "325325\n",
      "\n",
      "565656\n",
      "\n",
      "\n",
      "326\n",
      "5757\n",
      "\n",
      "327\n",
      "58\n",
      "328\n",
      "59\n",
      "329\n",
      "6060\n",
      "\n",
      "330\n",
      "61\n",
      "331\n",
      "62\n",
      "332332\n",
      "\n",
      "6363\n",
      "\n",
      "333\n",
      "64\n",
      "334334\n",
      "\n",
      "65\n",
      "335335\n",
      "\n",
      "66\n",
      "336\n",
      "6767\n",
      "\n",
      "337\n",
      "68\n",
      "69\n",
      "338\n",
      "7070\n",
      "\n",
      "339\n",
      "7171\n",
      "71\n",
      "\n",
      "340\n",
      "72\n",
      "341\n",
      "7373\n",
      "\n",
      "342\n",
      "342\n",
      "747474\n",
      "\n",
      "\n",
      "343343343\n",
      "\n",
      "\n",
      "757575\n",
      "\n",
      "\n",
      "344\n",
      "76\n",
      "345345\n",
      "\n",
      "77\n",
      "346346\n",
      "\n",
      "7878\n",
      "\n",
      "347\n",
      "79\n",
      "348\n",
      "80\n",
      "349\n",
      "818181\n",
      "\n",
      "\n",
      "350\n",
      "82\n",
      "351351\n",
      "\n",
      "83\n",
      "352352\n",
      "\n",
      "8484\n",
      "\n",
      "353353\n",
      "\n",
      "85\n",
      "354\n",
      "86\n",
      "355355\n",
      "355\n",
      "\n",
      "8787\n",
      "\n",
      "356\n",
      "88\n",
      "357\n",
      "89\n",
      "358\n",
      "90\n",
      "359\n",
      "91\n",
      "92\n",
      "360\n",
      "9393\n",
      "\n",
      "361\n",
      "361\n",
      "94\n",
      "362\n",
      "362\n",
      "9595\n",
      "\n",
      "363363\n",
      "\n",
      "96\n",
      "364\n",
      "9797\n",
      "\n",
      "365365\n",
      "\n",
      "9898\n",
      "\n",
      "366366366\n",
      "\n",
      "\n",
      "99\n",
      "367367\n",
      "\n",
      "100\n",
      "368\n",
      "101\n",
      "369\n",
      "102\n",
      "370370\n",
      "\n",
      "103103\n",
      "\n",
      "371371\n",
      "\n",
      "104\n",
      "104\n",
      "372\n",
      "105105\n",
      "\n",
      "373\n",
      "106\n",
      "374\n",
      "107\n",
      "375\n",
      "108\n",
      "376\n",
      "109109\n",
      "\n",
      "377\n",
      "110\n",
      "378378\n",
      "\n",
      "111111\n",
      "111\n",
      "\n",
      "379\n",
      "112\n",
      "112\n",
      "380\n",
      "113113\n",
      "\n",
      "114\n",
      "114\n",
      "381\n",
      "381\n",
      "115\n",
      "382382\n",
      "\n",
      "116116\n",
      "\n",
      "383383\n",
      "\n",
      "117117\n",
      "117\n",
      "\n",
      "384\n",
      "118118118\n",
      "\n",
      "\n",
      "385\n",
      "119\n",
      "386386\n",
      "\n",
      "120120\n",
      "120\n",
      "\n",
      "387\n",
      "121121121\n",
      "\n",
      "\n",
      "388\n",
      "122122122\n",
      "\n",
      "\n",
      "389389\n",
      "\n",
      "123123\n",
      "\n",
      "390\n",
      "390\n",
      "124\n",
      "391391\n",
      "\n",
      "125\n",
      "392392\n",
      "\n",
      "126\n",
      "393393\n",
      "393\n",
      "\n",
      "127\n",
      "394\n",
      "128\n",
      "395\n",
      "129\n",
      "396396\n",
      "396\n",
      "\n",
      "130\n",
      "397\n",
      "131131\n",
      "\n",
      "398\n",
      "132\n",
      "399399\n",
      "\n",
      "133133\n",
      "\n",
      "400\n",
      "134\n",
      "401\n",
      "135\n",
      "402402\n",
      "402402\n",
      "\n",
      "\n",
      "136\n",
      "403\n",
      "403\n",
      "137137\n",
      "\n",
      "404\n",
      "138138\n",
      "\n",
      "405\n",
      "139139\n",
      "\n",
      "406406406\n",
      "\n",
      "\n",
      "140140\n",
      "\n",
      "407\n",
      "407\n",
      "407\n",
      "141141\n",
      "\n",
      "408\n",
      "142142142142\n",
      "\n",
      "\n",
      "\n",
      "409409\n",
      "409\n",
      "\n",
      "143\n",
      "410\n",
      "144144\n",
      "\n",
      "411\n",
      "145\n",
      "412412\n",
      "412\n",
      "\n",
      "146\n",
      "413413\n",
      "\n",
      "147\n",
      "414414\n",
      "\n",
      "148\n",
      "415\n",
      "149\n",
      "416416\n",
      "\n",
      "150\n",
      "417417\n",
      "\n",
      "151151\n",
      "\n",
      "418\n",
      "152152\n",
      "\n",
      "419419\n",
      "\n",
      "153153\n",
      "\n",
      "420\n",
      "420\n",
      "154154154\n",
      "\n",
      "\n",
      "421421\n",
      "\n",
      "155155\n",
      "\n",
      "422422\n",
      "\n",
      "156156\n",
      "\n",
      "423423\n",
      "\n",
      "157\n"
     ]
    }
   ],
   "source": [
    "nearest = Knn.kneighbors(X[Y != majorityClass], n_neighbors= 6, return_distance= False)"
   ]
  },
  {
   "cell_type": "code",
   "execution_count": null,
   "metadata": {
    "id": "KLfb6JjU3UL3",
    "pycharm": {
     "is_executing": true
    }
   },
   "outputs": [],
   "source": [
    "results = pd.DataFrame(columns = [\"i\",\"class\", \"category\"])\n",
    "for n in nearest:\n",
    "    cl = Y[n[0]]\n",
    "    same = 0\n",
    "    other = 0\n",
    "    category = \"safe\"\n",
    "    for nnn in n:\n",
    "        if Y[nnn] == cl:\n",
    "            same += 1\n",
    "        else:\n",
    "            other += 1\n",
    "    if same == 1:\n",
    "        category = \"outlier\"\n",
    "    elif same <= 2:\n",
    "        category = \"rare\"\n",
    "    elif same <= 4:\n",
    "        category = \"borderline\"\n",
    "        \n",
    "    df2 = pd.DataFrame([[n[0],cl,category]],columns = [\"i\",\"class\", \"category\"])\n",
    "\n",
    "    results = results.append(df2)\n",
    "\n",
    "    \n",
    "    \n",
    "results"
   ]
  },
  {
   "cell_type": "code",
   "execution_count": null,
   "metadata": {
    "id": "JclTFT03_nJq",
    "pycharm": {
     "is_executing": true
    }
   },
   "outputs": [],
   "source": [
    "zeros = results[results[\"class\"]==majorityClass].count()[0]\n",
    "ones = results[results[\"class\"]!= majorityClass].count()[0]"
   ]
  },
  {
   "cell_type": "code",
   "execution_count": null,
   "metadata": {
    "id": "sqnjWxLn3UPY",
    "pycharm": {
     "is_executing": true
    }
   },
   "outputs": [],
   "source": [
    "categories_counts = results.groupby([\"class\",\"category\"]).count()\n",
    "categories_counts = categories_counts.reset_index()\n",
    "categories_counts"
   ]
  },
  {
   "cell_type": "code",
   "execution_count": null,
   "metadata": {
    "id": "5zdxhaC73USY",
    "pycharm": {
     "is_executing": true
    }
   },
   "outputs": [],
   "source": [
    "def map_p(i):\n",
    "    divider = zeros\n",
    "    if categories_counts[\"class\"][i] != majorityClass:\n",
    "        divider = ones\n",
    "    return int(categories_counts[\"i\"][i] * 10000/divider) / 100\n",
    "\n",
    "\n",
    "\n",
    "categories_counts[\"p\"] = pd.Series(categories_counts.index).apply(map_p)"
   ]
  },
  {
   "cell_type": "code",
   "execution_count": null,
   "metadata": {
    "id": "AUHCz3Xh3UWJ",
    "pycharm": {
     "is_executing": true
    }
   },
   "outputs": [],
   "source": [
    "categories_counts"
   ]
  },
  {
   "cell_type": "code",
   "execution_count": null,
   "metadata": {},
   "outputs": [],
   "source": []
  },
  {
   "cell_type": "code",
   "execution_count": null,
   "metadata": {},
   "outputs": [],
   "source": []
  },
  {
   "cell_type": "code",
   "execution_count": null,
   "metadata": {},
   "outputs": [],
   "source": []
  },
  {
   "cell_type": "code",
   "execution_count": null,
   "metadata": {},
   "outputs": [
    {
     "name": "stdout",
     "output_type": "stream",
     "text": [
      "228\n",
      "229229\n",
      "\n",
      "230\n",
      "231231\n",
      "231\n",
      "\n",
      "232232\n",
      "\n",
      "233233\n",
      "233\n",
      "\n",
      "234234\n",
      "\n",
      "235\n",
      "236\n",
      "237237\n",
      "237\n",
      "\n",
      "238238238\n",
      "\n",
      "\n",
      "239239\n",
      "\n",
      "240240\n",
      "\n",
      "240\n",
      "241241\n",
      "\n",
      "242242242\n",
      "\n",
      "\n",
      "243243\n",
      "\n",
      "244\n",
      "245245\n",
      "\n",
      "246\n",
      "247247\n",
      "\n",
      "248\n",
      "248\n",
      "249249249\n",
      "\n",
      "\n",
      "250\n",
      "251\n",
      "252252\n",
      "\n",
      "253253\n",
      "\n",
      "254\n",
      "255\n",
      "256256256\n",
      "\n",
      "\n",
      "257257\n",
      "\n",
      "258258258\n",
      "\n",
      "\n",
      "259259\n",
      "\n",
      "260260260\n",
      "\n",
      "\n"
     ]
    }
   ],
   "source": []
  }
 ],
 "metadata": {
  "colab": {
   "collapsed_sections": [],
   "name": "categorize_minority.ipynb",
   "provenance": []
  },
  "kernelspec": {
   "display_name": "Python 3",
   "language": "python",
   "name": "python3"
  },
  "language_info": {
   "codemirror_mode": {
    "name": "ipython",
    "version": 3
   },
   "file_extension": ".py",
   "mimetype": "text/x-python",
   "name": "python",
   "nbconvert_exporter": "python",
   "pygments_lexer": "ipython3",
   "version": "3.7.6"
  }
 },
 "nbformat": 4,
 "nbformat_minor": 1
}